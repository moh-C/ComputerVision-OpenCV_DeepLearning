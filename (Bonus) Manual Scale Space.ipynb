{
 "cells": [
  {
   "cell_type": "code",
   "execution_count": 1,
   "metadata": {},
   "outputs": [],
   "source": [
    "import cv2\n",
    "import numpy as np"
   ]
  },
  {
   "cell_type": "code",
   "execution_count": 2,
   "metadata": {},
   "outputs": [],
   "source": [
    "image = cv2.imread('./MasterOpenCV/images/input.jpg')\n",
    "cv2.imshow('Original Image', image)\n",
    "cv2.waitKey()\n",
    "cv2.destroyAllWindows()"
   ]
  },
  {
   "cell_type": "code",
   "execution_count": 19,
   "metadata": {},
   "outputs": [],
   "source": [
    "gaussian_3x3 = cv2.GaussianBlur(image, (3,3), 1)\n",
    "gaussian_5x5 = cv2.GaussianBlur(image, (5,5), 1)\n",
    "gaussian_7x7 = cv2.GaussianBlur(image, (7,7), 1)\n",
    "cv2.imshow('Gaussian 3x3', gaussian_3x3)\n",
    "cv2.waitKey()\n",
    "cv2.imshow('Gaussian 5x5', gaussian_5x5)\n",
    "cv2.waitKey()\n",
    "cv2.imshow('Gaussian 7x7', gaussian_7x7)\n",
    "cv2.waitKey()\n",
    "cv2.destroyAllWindows()"
   ]
  },
  {
   "cell_type": "markdown",
   "metadata": {},
   "source": [
    "## Defining the DoG"
   ]
  },
  {
   "cell_type": "code",
   "execution_count": 26,
   "metadata": {},
   "outputs": [],
   "source": [
    "def gaussian(image, option=0):\n",
    "    gaussian_3x3 = cv2.GaussianBlur(image, (3,3), 1)\n",
    "    gaussian_5x5 = cv2.GaussianBlur(image, (5,5), 1)\n",
    "    gaussian_7x7 = cv2.GaussianBlur(image, (7,7), 1)\n",
    "    if option==0:\n",
    "        return cv2.subtract(image, gaussian_3x3)\n",
    "    if option==1:\n",
    "        return cv2.subtract(image, gaussian_5x5)\n",
    "    if option==2:\n",
    "        return cv2.subtract(image, gaussian_7x7)\n",
    "    if option==3:\n",
    "        return 120*cv2.subtract(gaussian_3x3, gaussian_5x5)\n",
    "    return None"
   ]
  },
  {
   "cell_type": "code",
   "execution_count": null,
   "metadata": {},
   "outputs": [],
   "source": []
  },
  {
   "cell_type": "code",
   "execution_count": 27,
   "metadata": {},
   "outputs": [],
   "source": [
    "images = []\n",
    "for i in range(4):\n",
    "    images.append(gaussian(image.copy(), option=i))\n",
    "for i, img in enumerate(images):\n",
    "    cv2.imshow('Image' + str(i), img)\n",
    "    cv2.waitKey()\n",
    "cv2.destroyAllWindows()"
   ]
  },
  {
   "cell_type": "code",
   "execution_count": null,
   "metadata": {},
   "outputs": [],
   "source": []
  },
  {
   "cell_type": "code",
   "execution_count": null,
   "metadata": {},
   "outputs": [],
   "source": [
    "pyramid = cv2.pyrDown(image)"
   ]
  }
 ],
 "metadata": {
  "kernelspec": {
   "display_name": "Python 3",
   "language": "python",
   "name": "python3"
  },
  "language_info": {
   "codemirror_mode": {
    "name": "ipython",
    "version": 3
   },
   "file_extension": ".py",
   "mimetype": "text/x-python",
   "name": "python",
   "nbconvert_exporter": "python",
   "pygments_lexer": "ipython3",
   "version": "3.7.3"
  }
 },
 "nbformat": 4,
 "nbformat_minor": 2
}
