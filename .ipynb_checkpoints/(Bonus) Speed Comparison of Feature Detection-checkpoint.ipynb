{
 "cells": [
  {
   "cell_type": "code",
   "execution_count": 1,
   "metadata": {},
   "outputs": [],
   "source": [
    "import numpy as np\n",
    "import cv2"
   ]
  },
  {
   "cell_type": "code",
   "execution_count": 2,
   "metadata": {},
   "outputs": [],
   "source": [
    "img = cv2.imread('./MasterOpenCV/images/input.jpg')\n",
    "gray= cv2.cvtColor(img,cv2.COLOR_BGR2GRAY)"
   ]
  },
  {
   "cell_type": "code",
   "execution_count": 3,
   "metadata": {},
   "outputs": [],
   "source": [
    "sift = cv2.xfeatures2d.SIFT_create()\n",
    "surf = cv2.xfeatures2d.SURF_create()\n",
    "fast = cv2.FastFeatureDetector_create()\n",
    "fast02 = cv2.FastFeatureDetector_create()\n",
    "brief = cv2.xfeatures2d.BriefDescriptorExtractor_create()\n",
    "orb = cv2.ORB_create()"
   ]
  },
  {
   "cell_type": "code",
   "execution_count": 4,
   "metadata": {},
   "outputs": [
    {
     "name": "stdout",
     "output_type": "stream",
     "text": [
      "364 ms ± 6.07 ms per loop (mean ± std. dev. of 7 runs, 1 loop each)\n"
     ]
    }
   ],
   "source": [
    "%%timeit\n",
    "kp, desc = sift.detectAndCompute(gray, None)"
   ]
  },
  {
   "cell_type": "code",
   "execution_count": 5,
   "metadata": {},
   "outputs": [
    {
     "name": "stdout",
     "output_type": "stream",
     "text": [
      "391 ms ± 6.49 ms per loop (mean ± std. dev. of 7 runs, 1 loop each)\n"
     ]
    }
   ],
   "source": [
    "%%timeit\n",
    "keypoints, desc = surf.detectAndCompute(gray, None)"
   ]
  },
  {
   "cell_type": "code",
   "execution_count": 6,
   "metadata": {},
   "outputs": [
    {
     "name": "stdout",
     "output_type": "stream",
     "text": [
      "3.3 ms ± 11 µs per loop (mean ± std. dev. of 7 runs, 100 loops each)\n"
     ]
    }
   ],
   "source": [
    "%%timeit\n",
    "keypoints = fast.detect(gray, None)"
   ]
  },
  {
   "cell_type": "code",
   "execution_count": 7,
   "metadata": {},
   "outputs": [
    {
     "name": "stdout",
     "output_type": "stream",
     "text": [
      "40.4 ms ± 6.11 ms per loop (mean ± std. dev. of 7 runs, 10 loops each)\n"
     ]
    }
   ],
   "source": [
    "%%timeit\n",
    "keypoints = fast02.detect(gray, None)\n",
    "keypoints, descriptors = brief.compute(gray, keypoints)"
   ]
  },
  {
   "cell_type": "code",
   "execution_count": 8,
   "metadata": {},
   "outputs": [
    {
     "name": "stdout",
     "output_type": "stream",
     "text": [
      "27.5 ms ± 1.32 ms per loop (mean ± std. dev. of 7 runs, 10 loops each)\n"
     ]
    }
   ],
   "source": [
    "%%timeit\n",
    "keypoints = orb.detect(gray, None)\n",
    "keypoints, descriptors = orb.compute(gray, keypoints)"
   ]
  },
  {
   "cell_type": "code",
   "execution_count": 9,
   "metadata": {},
   "outputs": [
    {
     "name": "stdout",
     "output_type": "stream",
     "text": [
      "Length of SIFT features:  1892\n",
      "Length of SURF features:  2989\n",
      "Length of FAST features:  8963\n",
      "Length of BRIEF features:  8738\n",
      "Length of ORB features:  500\n"
     ]
    }
   ],
   "source": [
    "keypointsSIFT, desc = sift.detectAndCompute(gray, None)\n",
    "keypointsSURF, desc = surf.detectAndCompute(gray, None)\n",
    "keypointsFAST = fast.detect(gray, None)\n",
    "keypoints = fast02.detect(gray, None)\n",
    "keypointsBRIEF, descriptors = brief.compute(gray, keypoints)\n",
    "keypointsORB = orb.detect(gray, None)\n",
    "\n",
    "print(\"Length of SIFT features: \", len(keypointsSIFT))\n",
    "print(\"Length of SURF features: \", len(keypointsSURF))\n",
    "print(\"Length of FAST features: \", len(keypointsFAST))\n",
    "print(\"Length of BRIEF features: \", len(keypointsBRIEF))\n",
    "print(\"Length of ORB features: \", len(keypointsORB))"
   ]
  }
 ],
 "metadata": {
  "kernelspec": {
   "display_name": "Python 3",
   "language": "python",
   "name": "python3"
  },
  "language_info": {
   "codemirror_mode": {
    "name": "ipython",
    "version": 3
   },
   "file_extension": ".py",
   "mimetype": "text/x-python",
   "name": "python",
   "nbconvert_exporter": "python",
   "pygments_lexer": "ipython3",
   "version": "3.7.3"
  }
 },
 "nbformat": 4,
 "nbformat_minor": 2
}
