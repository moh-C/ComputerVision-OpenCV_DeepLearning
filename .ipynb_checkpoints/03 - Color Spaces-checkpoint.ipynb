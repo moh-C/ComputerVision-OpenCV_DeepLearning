{
 "cells": [
  {
   "cell_type": "code",
   "execution_count": 2,
   "metadata": {},
   "outputs": [],
   "source": [
    "import cv2\n",
    "import numpy as np"
   ]
  },
  {
   "cell_type": "code",
   "execution_count": 8,
   "metadata": {},
   "outputs": [],
   "source": [
    "img = cv2.imread('./MasterOpenCV/images/input.jpg')"
   ]
  },
  {
   "cell_type": "markdown",
   "metadata": {},
   "source": [
    "# The Main Image"
   ]
  },
  {
   "cell_type": "code",
   "execution_count": 9,
   "metadata": {},
   "outputs": [],
   "source": [
    "cv2.imshow('Image', img)\n",
    "cv2.waitKey()\n",
    "cv2.destroyAllWindows()"
   ]
  },
  {
   "cell_type": "markdown",
   "metadata": {},
   "source": [
    "# The OpenCV Method"
   ]
  },
  {
   "cell_type": "code",
   "execution_count": 12,
   "metadata": {},
   "outputs": [
    {
     "data": {
      "text/plain": [
       "True"
      ]
     },
     "execution_count": 12,
     "metadata": {},
     "output_type": "execute_result"
    }
   ],
   "source": [
    "gray_img = cv2.cvtColor(img, cv2.COLOR_BGR2GRAY)\n",
    "cv2.imshow('Gray Image', gray_img)\n",
    "cv2.waitKey()\n",
    "cv2.destroyAllWindows()\n",
    "cv2.imwrite('Gray_Image.jpg', gray_img)"
   ]
  },
  {
   "cell_type": "markdown",
   "metadata": {},
   "source": [
    "## My Custom Gray Image Converter"
   ]
  },
  {
   "cell_type": "code",
   "execution_count": null,
   "metadata": {},
   "outputs": [],
   "source": [
    "def convert_to_gray(image):\n",
    "    final_image = np.zeros(image.shape[:2])\n",
    "    row_index = 0\n",
    "    for row in image:\n",
    "        col_index = 0\n",
    "        for col in row:\n",
    "            x = np.round(np.dot(Gray_weights, col))\n",
    "            x = x.astype(int)\n",
    "            final_image[row_index][col_index] = x\n",
    "            col_index = col_index + 1\n",
    "        row_index = row_index + 1\n",
    "    return final_image.astype(int)"
   ]
  },
  {
   "cell_type": "code",
   "execution_count": null,
   "metadata": {},
   "outputs": [],
   "source": [
    "def convert_to_gray(image):\n",
    "    \n",
    "    # Slow Implementation\n",
    "    \n",
    "    final_image = np.zeros(image.shape[:2])\n",
    "    row_index = 0\n",
    "    for row in image:\n",
    "        col_index = 0\n",
    "        for col in row:\n",
    "            x = np.round(np.dot(Gray_weights, col))\n",
    "            x = x.astype(int)\n",
    "            final_image[row_index][col_index] = x\n",
    "            col_index = col_index + 1\n",
    "        row_index = row_index + 1\n",
    "    \n",
    "    return final_image.astype(int)"
   ]
  },
  {
   "cell_type": "code",
   "execution_count": 33,
   "metadata": {},
   "outputs": [],
   "source": [
    "def rgb2gray(rgb):\n",
    "    \n",
    "    # Much faster implementation\n",
    "    \n",
    "    Gray_weights = [0.114, 0.587, 0.299]\n",
    "    return np.dot(rgb[...,:3], Gray_weights).astype(np.uint8)"
   ]
  },
  {
   "cell_type": "code",
   "execution_count": 35,
   "metadata": {},
   "outputs": [],
   "source": [
    "converted_Image = rgb2gray(image)\n",
    "cv2.imshow('converted_Image', converted_Image)\n",
    "cv2.waitKey()\n",
    "cv2.destroyAllWindows()"
   ]
  },
  {
   "cell_type": "markdown",
   "metadata": {},
   "source": [
    "# Custom HSV Convertor"
   ]
  },
  {
   "cell_type": "code",
   "execution_count": null,
   "metadata": {},
   "outputs": [],
   "source": [
    "def rgb_to_hsv(r, g, b): \n",
    "    \n",
    "    r, g, b = r / 255.0, g / 255.0, b / 255.0\n",
    "    cmax = max(r, g, b)    # maximum of r, g, b \n",
    "    cmin = min(r, g, b)    # minimum of r, g, b \n",
    "    diff = cmax - cmin       # diff of cmax and cmin. \n",
    "    if cmax == cmin:  \n",
    "        h = 0\n",
    "    elif cmax == r:  \n",
    "        h = (60 * ((g - b) / diff) + 360) % 360\n",
    "    elif cmax == g: \n",
    "        h = (60 * ((b - r) / diff) + 120) % 360\n",
    "    elif cmax == b: \n",
    "        h = (60 * ((r - g) / diff) + 240) % 360\n",
    "    if cmax == 0: \n",
    "        s = 0\n",
    "    else: \n",
    "        s = (diff / cmax) * 100\n",
    "    \n",
    "    v = cmax * 100\n",
    "    \n",
    "    return h, s, v\n",
    "\n",
    "print(rgb_to_hsv(255, 0, 0)) "
   ]
  },
  {
   "cell_type": "markdown",
   "metadata": {},
   "source": [
    "# Convert HSV via OpenCV"
   ]
  },
  {
   "cell_type": "code",
   "execution_count": 10,
   "metadata": {},
   "outputs": [],
   "source": [
    "image = cv2.imread('./MasterOpenCV/images/input.jpg')\n",
    "image = cv2.cvtColor(image, cv2.COLOR_BGR2HSV)\n",
    "cv2.imshow(\"Original Image\", image)\n",
    "cv2.imshow(\"Hue Channel\", image[:,:,0])\n",
    "cv2.imshow(\"Saturations Channel\", image[:,:,1])\n",
    "cv2.imshow(\"Value Channel\", image[:,:,2])\n",
    "cv2.waitKey()\n",
    "cv2.destroyAllWindows()"
   ]
  },
  {
   "cell_type": "markdown",
   "metadata": {},
   "source": [
    "## Writing the Images"
   ]
  },
  {
   "cell_type": "code",
   "execution_count": 11,
   "metadata": {},
   "outputs": [
    {
     "data": {
      "text/plain": [
       "True"
      ]
     },
     "execution_count": 11,
     "metadata": {},
     "output_type": "execute_result"
    }
   ],
   "source": [
    "image = cv2.imread('./MasterOpenCV/images/input.jpg')\n",
    "HSV_image = cv2.cvtColor(image, cv2.COLOR_BGR2HSV)\n",
    "\n",
    "cv2.imwrite('HSV_Hue_Channel.jpg',HSV_image[:,:,0])\n",
    "cv2.imwrite('HSV_Saturation_Channel.jpg',HSV_image[:,:,1])\n",
    "cv2.imwrite('HSV_Value_Channel.jpg',HSV_image[:,:,2])\n"
   ]
  },
  {
   "cell_type": "markdown",
   "metadata": {},
   "source": [
    "# Indivisual Channels in RGB"
   ]
  },
  {
   "cell_type": "code",
   "execution_count": 13,
   "metadata": {},
   "outputs": [],
   "source": [
    "image = cv2.imread('./MasterOpenCV/images/input.jpg')\n",
    "\n",
    "# OpenCV's 'split' function splites the image into each color index\n",
    "B, G, R = cv2.split(image)\n",
    "\n",
    "cv2.imshow(\"Red\", R)\n",
    "cv2.imshow(\"Green\", G)\n",
    "cv2.imshow(\"Blue\", B)\n",
    "cv2.waitKey(0)\n",
    "cv2.destroyAllWindows()\n",
    "\n",
    "merged = cv2.merge([B, G, R]) \n",
    "cv2.imshow(\"Merged\", merged) \n",
    "\n",
    "merged = cv2.merge([B+100, G, R])\n",
    "cv2.imwrite('Blue_Intensified.jpg',merged)\n",
    "cv2.imshow(\"Merged with Blue Amplified\", merged) \n",
    "\n",
    "cv2.waitKey(0)\n",
    "cv2.destroyAllWindows()"
   ]
  },
  {
   "cell_type": "code",
   "execution_count": 14,
   "metadata": {},
   "outputs": [
    {
     "data": {
      "text/plain": [
       "True"
      ]
     },
     "execution_count": 14,
     "metadata": {},
     "output_type": "execute_result"
    }
   ],
   "source": [
    "cv2.imwrite('Blue_Intensified.jpg',merged)"
   ]
  },
  {
   "cell_type": "markdown",
   "metadata": {},
   "source": [
    "# Indivisual Channels Colored"
   ]
  },
  {
   "cell_type": "code",
   "execution_count": null,
   "metadata": {},
   "outputs": [],
   "source": [
    "B, G, R = cv2.split(image)\n",
    "\n",
    "# Let's create a matrix of zeros \n",
    "# with dimensions of the image h x w  \n",
    "zeros = np.zeros(image.shape[:2], dtype = \"uint8\")\n",
    "\n",
    "cv2.imshow(\"Red\", cv2.merge([zeros, zeros, R]))\n",
    "cv2.imshow(\"Green\", cv2.merge([zeros, G, zeros]))\n",
    "cv2.imshow(\"Blue\", cv2.merge([B, zeros, zeros]))\n",
    "\n",
    "cv2.waitKey(0)\n",
    "cv2.destroyAllWindows()"
   ]
  },
  {
   "cell_type": "code",
   "execution_count": 19,
   "metadata": {},
   "outputs": [],
   "source": [
    "B, G, R = cv2.split(image)\n",
    "zeros = np.zeros(image.shape[:2], dtype = 'uint8')\n",
    "Red_channel = cv2.merge([zeros,zeros,R])\n",
    "cv2.imshow('Red Channel',Red_channel)\n",
    "Green_channel = cv2.merge([zeros,G,zeros])\n",
    "cv2.imshow('Green Channel',Green_channel)\n",
    "Blue_channel = cv2.merge([B,zeros,zeros])\n",
    "cv2.imshow('Blue Channel',Blue_channel)\n",
    "cv2.imwrite('RGB_Red_channel.jpg',Red_channel)\n",
    "cv2.imwrite('RGB_Green_channel.jpg',Green_channel)\n",
    "cv2.imwrite('RGB_Blue_channel.jpg',Blue_channel)\n",
    "cv2.waitKey()\n",
    "cv2.destroyAllWindows()"
   ]
  },
  {
   "cell_type": "code",
   "execution_count": null,
   "metadata": {},
   "outputs": [],
   "source": []
  },
  {
   "cell_type": "code",
   "execution_count": null,
   "metadata": {},
   "outputs": [],
   "source": []
  },
  {
   "cell_type": "markdown",
   "metadata": {},
   "source": [
    "# The End!"
   ]
  }
 ],
 "metadata": {
  "kernelspec": {
   "display_name": "Python 3",
   "language": "python",
   "name": "python3"
  },
  "language_info": {
   "codemirror_mode": {
    "name": "ipython",
    "version": 3
   },
   "file_extension": ".py",
   "mimetype": "text/x-python",
   "name": "python",
   "nbconvert_exporter": "python",
   "pygments_lexer": "ipython3",
   "version": "3.7.3"
  }
 },
 "nbformat": 4,
 "nbformat_minor": 2
}
