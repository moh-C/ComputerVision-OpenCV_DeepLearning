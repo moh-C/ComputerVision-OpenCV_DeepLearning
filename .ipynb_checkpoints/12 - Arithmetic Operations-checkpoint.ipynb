{
 "cells": [
  {
   "cell_type": "code",
   "execution_count": 1,
   "metadata": {},
   "outputs": [],
   "source": [
    "import cv2\n",
    "import numpy as np"
   ]
  },
  {
   "cell_type": "code",
   "execution_count": 2,
   "metadata": {},
   "outputs": [],
   "source": [
    "image = cv2.imread('./MasterOpenCV/images/input.jpg')\n",
    "\n",
    "M = np.ones(image.shape, dtype = \"uint8\") * 125\n",
    "added = cv2.add(image, M)\n",
    "cv2.imshow(\"Added\", added)\n",
    "subtracted = cv2.subtract(image, M)\n",
    "cv2.imshow(\"Subtracted\", subtracted)\n",
    "\n",
    "cv2.waitKey(0)\n",
    "cv2.destroyAllWindows()"
   ]
  },
  {
   "cell_type": "code",
   "execution_count": 3,
   "metadata": {},
   "outputs": [],
   "source": [
    "image = cv2.imread('./MasterOpenCV/images/input.jpg')\n",
    "Mat = np.ones(image.shape, dtype=\"uint8\") * 100\n",
    "added = cv2.add(image, Mat)\n",
    "subtracted = cv2.subtract(image, Mat)\n",
    "cv2.imshow('Added', added)\n",
    "cv2.imshow('Subtracted', subtracted)\n",
    "\n",
    "cv2.waitKey()\n",
    "cv2.destroyAllWindows()"
   ]
  },
  {
   "cell_type": "markdown",
   "metadata": {},
   "source": [
    "# Color Inversion"
   ]
  },
  {
   "cell_type": "code",
   "execution_count": null,
   "metadata": {},
   "outputs": [],
   "source": [
    "Mat = np.ones(image.shape, dtype=\"uint8\") * 255\n",
    "inverted = cv2.subtract(Mat, image)\n",
    "cv2.imshow('Inverted', inverted)\n",
    "\n",
    "cv2.waitKey()\n",
    "cv2.destroyAllWindows()"
   ]
  },
  {
   "cell_type": "code",
   "execution_count": 5,
   "metadata": {},
   "outputs": [],
   "source": [
    "kernel_ = np.float32([[-1, -1, -1],\n",
    "                      [-1, 8, -1],\n",
    "                      [-1, -1, -1]])\n",
    "\n",
    "edgeInverted = cv2.filter2D(inverted, -1, kernel_)\n",
    "edgeImage = cv2.filter2D(image, -1, kernel_)\n",
    "subtraction = cv2.subtract(image, edgeInverted)\n",
    "cv2.imshow('Edge of Inverted', edgeInverted)\n",
    "cv2.imshow('Edge of Image', edgeImage)\n",
    "cv2.imshow('Subtracted', subtraction)\n",
    "cv2.imshow('Image', image)\n",
    "cv2.waitKey()\n",
    "cv2.destroyAllWindows()"
   ]
  },
  {
   "cell_type": "markdown",
   "metadata": {},
   "source": [
    "# Bilateral Filtering"
   ]
  },
  {
   "cell_type": "code",
   "execution_count": 6,
   "metadata": {},
   "outputs": [],
   "source": [
    "bilateralFiltered = cv2.bilateralFilter(image, 45, 100, 100)"
   ]
  },
  {
   "cell_type": "code",
   "execution_count": 8,
   "metadata": {},
   "outputs": [],
   "source": [
    "cv2.imshow('bilateralFiltered', bilateralFiltered)\n",
    "edgeImageBilateral = cv2.filter2D(bilateralFiltered, -1, kernel_)\n",
    "cv2.imshow('Edge of Inverted', edgeImageBilateral)\n",
    "cv2.waitKey()\n",
    "cv2.destroyAllWindows()"
   ]
  },
  {
   "cell_type": "markdown",
   "metadata": {},
   "source": [
    "** This could be interpretted as a new region of interest in this image! **"
   ]
  }
 ],
 "metadata": {
  "kernelspec": {
   "display_name": "Python 3",
   "language": "python",
   "name": "python3"
  },
  "language_info": {
   "codemirror_mode": {
    "name": "ipython",
    "version": 3
   },
   "file_extension": ".py",
   "mimetype": "text/x-python",
   "name": "python",
   "nbconvert_exporter": "python",
   "pygments_lexer": "ipython3",
   "version": "3.7.3"
  }
 },
 "nbformat": 4,
 "nbformat_minor": 2
}
