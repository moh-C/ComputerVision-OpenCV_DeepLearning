{
 "cells": [
  {
   "cell_type": "code",
   "execution_count": 104,
   "metadata": {},
   "outputs": [],
   "source": [
    "import numpy as np\n",
    "import cv2\n",
    "import random as rng"
   ]
  },
  {
   "cell_type": "code",
   "execution_count": 111,
   "metadata": {},
   "outputs": [],
   "source": [
    "image = cv2.imread('./MasterOpenCV/images/kim.jpg')\n",
    "edge = cv2.cvtColor(image, cv2.COLOR_BGR2GRAY)\n",
    "edge = cv2.Canny(image, 30, 200)"
   ]
  },
  {
   "cell_type": "code",
   "execution_count": 118,
   "metadata": {},
   "outputs": [],
   "source": [
    "contours, _ = cv2.findContours(edge.copy(), cv2.RETR_LIST, cv2.CHAIN_APPROX_SIMPLE)\n",
    "copied = image.copy()\n",
    "color = (rng.randint(0,256), rng.randint(0,256), rng.randint(0,256))\n",
    "cv2.drawContours(copied, contours, -1, color, 3)\n",
    "cv2.imshow('Contours', copied)\n",
    "cv2.waitKey(0)\n",
    "cv2.destroyAllWindows()"
   ]
  },
  {
   "cell_type": "code",
   "execution_count": null,
   "metadata": {},
   "outputs": [],
   "source": []
  },
  {
   "cell_type": "markdown",
   "metadata": {},
   "source": [
    "## Creating a cool visual Effect!"
   ]
  },
  {
   "cell_type": "code",
   "execution_count": 100,
   "metadata": {},
   "outputs": [],
   "source": [
    "rng.seed(12345)\n",
    "def thresh_callback(val):\n",
    "    threshold = val\n",
    "    canny_output = cv2.Canny(src_gray, threshold, threshold * 2)\n",
    "    contours, _ = cv2.findContours(canny_output, cv2.RETR_TREE, cv2.CHAIN_APPROX_SIMPLE)\n",
    "    drawing = np.zeros((canny_output.shape[0], canny_output.shape[1], 3), dtype=np.uint8)\n",
    "    for i in range(len(contours)):\n",
    "        color = (rng.randint(0,256), rng.randint(0,256), rng.randint(0,256))\n",
    "        cv2.drawContours(drawing, contours, i, color, 1, cv.LINE_8, hierarchy, 0)\n",
    "    cv.imshow('Contours', drawing)\n",
    "\n",
    "\n",
    "src = cv2.imread('./MasterOpenCV/images/kim.jpg')\n",
    "src_gray = cv2.cvtColor(src, cv.COLOR_BGR2GRAY)\n",
    "src_gray = cv2.blur(src_gray, (3,3))\n",
    "# Create Window\n",
    "source_window = 'Source'\n",
    "cv2.namedWindow(source_window)\n",
    "cv2.imshow(source_window, src)\n",
    "max_thresh = 255\n",
    "thresh = 50 # initial threshold\n",
    "cv2.createTrackbar('Canny Thresh:', source_window, thresh, max_thresh, thresh_callback)\n",
    "thresh_callback(thresh)\n",
    "cv2.waitKey()\n",
    "cv2.destroyAllWindows()"
   ]
  },
  {
   "cell_type": "markdown",
   "metadata": {},
   "source": [
    "### Some Externeal Links:"
   ]
  },
  {
   "cell_type": "markdown",
   "metadata": {},
   "source": [
    "https://towardsdatascience.com/computer-vision-for-beginners-part-4-64a8d9856208\n",
    "\n",
    "https://www.pyimagesearch.com/2016/04/11/finding-extreme-points-in-contours-with-opencv/\n",
    "\n",
    "https://towardsdatascience.com/computer-vision-for-beginners-part-4-64a8d9856208"
   ]
  }
 ],
 "metadata": {
  "kernelspec": {
   "display_name": "Python 3",
   "language": "python",
   "name": "python3"
  },
  "language_info": {
   "codemirror_mode": {
    "name": "ipython",
    "version": 3
   },
   "file_extension": ".py",
   "mimetype": "text/x-python",
   "name": "python",
   "nbconvert_exporter": "python",
   "pygments_lexer": "ipython3",
   "version": "3.7.3"
  }
 },
 "nbformat": 4,
 "nbformat_minor": 2
}
