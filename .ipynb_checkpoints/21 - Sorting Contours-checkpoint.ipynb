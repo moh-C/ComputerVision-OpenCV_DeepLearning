{
 "cells": [
  {
   "cell_type": "code",
   "execution_count": 29,
   "metadata": {},
   "outputs": [],
   "source": [
    "import cv2\n",
    "import numpy as np\n",
    "import random"
   ]
  },
  {
   "cell_type": "markdown",
   "metadata": {},
   "source": [
    "### Loading The Image"
   ]
  },
  {
   "cell_type": "code",
   "execution_count": 91,
   "metadata": {},
   "outputs": [],
   "source": [
    "image = cv2.imread('./MasterOpenCV/images/bunchofshapes.jpg')\n",
    "cv2.imshow('0 - Original Image', image)\n",
    "cv2.waitKey(0)\n",
    "cv2.destroyAllWindows()"
   ]
  },
  {
   "cell_type": "markdown",
   "metadata": {},
   "source": [
    "### Detecting Edges"
   ]
  },
  {
   "cell_type": "code",
   "execution_count": 92,
   "metadata": {},
   "outputs": [],
   "source": [
    "original_image = image.copy()\n",
    "gray_img = cv2.cvtColor(original_image, cv2.COLOR_BGR2GRAY)\n",
    "edged = cv2.Canny(gray_img, 185, 255)\n",
    "cv2.imshow('Edged ', edged)\n",
    "cv2.waitKey()\n",
    "cv2.destroyAllWindows()"
   ]
  },
  {
   "cell_type": "markdown",
   "metadata": {},
   "source": [
    "### Drawing contours on a blank image"
   ]
  },
  {
   "cell_type": "code",
   "execution_count": 93,
   "metadata": {},
   "outputs": [],
   "source": [
    "blank_image = np.zeros(image.shape)\n",
    "contours, _ = cv2.findContours(edged.copy(), cv2.RETR_EXTERNAL, cv2.CHAIN_APPROX_NONE)\n",
    "cv2.drawContours(blank_image, contours, -1, (0,0,255), 2)\n",
    "cv2.imshow('Blank Image ', blank_image)\n",
    "cv2.waitKey()\n",
    "cv2.destroyAllWindows()"
   ]
  },
  {
   "cell_type": "markdown",
   "metadata": {},
   "source": [
    "### Drawing images on the original ones"
   ]
  },
  {
   "cell_type": "code",
   "execution_count": 94,
   "metadata": {},
   "outputs": [],
   "source": [
    "cv2.drawContours(original_image, contours, -1, (random.randint(0,255), random.randint(0,255), random.randint(0,255)), 2)\n",
    "cv2.imshow('Blank Image ', original_image)\n",
    "cv2.waitKey()\n",
    "cv2.destroyAllWindows()"
   ]
  },
  {
   "cell_type": "markdown",
   "metadata": {},
   "source": [
    "### Computing and sorting by the areas"
   ]
  },
  {
   "cell_type": "code",
   "execution_count": 95,
   "metadata": {},
   "outputs": [
    {
     "name": "stdout",
     "output_type": "stream",
     "text": [
      "[20587.5, 22901.5, 66579.5, 90222.0]\n",
      "[90222.0, 66579.5, 22901.5, 20587.5]\n",
      "[90222.0, 66579.5, 22901.5, 20587.5]\n"
     ]
    }
   ],
   "source": [
    "all_areas = [cv2.contourArea(cnt) for cnt in contours]\n",
    "sorted_areas = sorted(contours, key=cv2.contourArea ,reverse=True)\n",
    "print(all_areas)\n",
    "print([cv2.contourArea(cnt) for cnt in sorted_areas])\n",
    "\n",
    "print([cv2.contourArea(cnt) for cnt in sorted_areas])"
   ]
  },
  {
   "cell_type": "code",
   "execution_count": 96,
   "metadata": {},
   "outputs": [],
   "source": [
    "original_image = image.copy()\n",
    "# color = (random.randint(0,255), random.randint(0,255), random.randint(0,255))\n",
    "for cnt in sorted_areas:\n",
    "    if cv2.contourArea(cnt) > 20:\n",
    "        cv2.drawContours(original_image, [cnt], -1, (0,0,0), 2)\n",
    "        cv2.imshow('Original Image', original_image)\n",
    "        cv2.waitKey()\n",
    "\n",
    "cv2.destroyAllWindows()"
   ]
  },
  {
   "cell_type": "markdown",
   "metadata": {},
   "source": [
    "### Drawing Circles in the center of moment!"
   ]
  },
  {
   "cell_type": "code",
   "execution_count": 138,
   "metadata": {},
   "outputs": [],
   "source": [
    "def draw_circle(image, cnt):\n",
    "    M = cv2.moments(cnt)\n",
    "    if M[\"m00\"] == 0:\n",
    "        raise ZeroDivisionError\n",
    "    Cx = int(M[\"m10\"] / M[\"m00\"])\n",
    "    Cy = int(M[\"m01\"] / M[\"m00\"])\n",
    "    color = (random.randint(0,255), random.randint(0,255), random.randint(0,255))\n",
    "    cv2.circle(image, (Cx, Cy), 4, color, 2)\n",
    "    cv2.imshow('original_image', original_image)\n",
    "    cv2.waitKey()\n",
    "\n",
    "def order_x(cnt):\n",
    "    if cv2.contourArea(cnt):\n",
    "        M = cv2.moments(cnt)\n",
    "    else:\n",
    "        return\n",
    "    Cx = int(M[\"m10\"] / M[\"m00\"])\n",
    "    if Cx:\n",
    "        return Cx\n",
    "\n",
    "def order_y(cnt):\n",
    "    if cv2.contourArea(cnt):\n",
    "        M = cv2.moments(cnt)\n",
    "    else:\n",
    "        return\n",
    "    M = cv2.moments(cnt)\n",
    "    Cy = int(M[\"m01\"] / M[\"m00\"])\n",
    "    if Cy:\n",
    "        return Cy\n",
    "\n",
    "def label(image, cnt, i):\n",
    "    if cv2.contourArea(cnt):\n",
    "        M = cv2.moments(cnt)\n",
    "    else:\n",
    "        return\n",
    "    (cx, cy) = int(M[\"m10\"] / M[\"m00\"]) + 10, int(M[\"m01\"] / M[\"m00\"]) + 10\n",
    "    color = (random.randint(0,255), random.randint(0,255), random.randint(0,255))\n",
    "    cv2.putText(image, str(i+1), (cx, cy), cv2.FONT_HERSHEY_SCRIPT_COMPLEX, 1, color, 2)"
   ]
  },
  {
   "cell_type": "code",
   "execution_count": 139,
   "metadata": {},
   "outputs": [],
   "source": [
    "original_image = image.copy()\n",
    "for cnt in sorted_areas:\n",
    "    draw_circle(original_image, cnt)\n",
    "cv2.destroyAllWindows()"
   ]
  },
  {
   "cell_type": "code",
   "execution_count": 140,
   "metadata": {},
   "outputs": [],
   "source": [
    "left_to_right = sorted(sorted_areas, key=order_x, reverse=False)\n",
    "right_to_left = sorted(sorted_areas, key=order_x, reverse=True)\n",
    "top_to_bottom = sorted(sorted_areas, key=order_y, reverse=False)\n",
    "bottom_to_top = sorted(sorted_areas, key=order_y, reverse=True)"
   ]
  },
  {
   "cell_type": "code",
   "execution_count": 141,
   "metadata": {},
   "outputs": [],
   "source": [
    "original_image = image.copy()\n",
    "for (i, cnt) in enumerate(left_to_right):\n",
    "    label(original_image, cnt, i)\n",
    "    draw_circle(original_image, cnt)\n",
    "\n",
    "original_image = image.copy()\n",
    "for (i, cnt) in enumerate(right_to_left):\n",
    "    label(original_image, cnt, i)\n",
    "    draw_circle(original_image, cnt)\n",
    "    \n",
    "original_image = image.copy()\n",
    "for (i, cnt) in enumerate(top_to_bottom):\n",
    "    label(original_image, cnt, i)\n",
    "    draw_circle(original_image, cnt)\n",
    "    \n",
    "original_image = image.copy()\n",
    "for (i, cnt) in enumerate(bottom_to_top):\n",
    "    label(original_image, cnt, i)\n",
    "    draw_circle(original_image, cnt)\n",
    "\n",
    "cv2.destroyAllWindows()"
   ]
  },
  {
   "cell_type": "code",
   "execution_count": null,
   "metadata": {},
   "outputs": [],
   "source": []
  }
 ],
 "metadata": {
  "kernelspec": {
   "display_name": "Python 3",
   "language": "python",
   "name": "python3"
  },
  "language_info": {
   "codemirror_mode": {
    "name": "ipython",
    "version": 3
   },
   "file_extension": ".py",
   "mimetype": "text/x-python",
   "name": "python",
   "nbconvert_exporter": "python",
   "pygments_lexer": "ipython3",
   "version": "3.7.3"
  }
 },
 "nbformat": 4,
 "nbformat_minor": 2
}
