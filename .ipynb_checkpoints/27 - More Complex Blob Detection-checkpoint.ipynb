{
 "cells": [
  {
   "cell_type": "code",
   "execution_count": 2,
   "metadata": {},
   "outputs": [],
   "source": [
    "import cv2\n",
    "import numpy as np\n",
    "import random"
   ]
  },
  {
   "cell_type": "code",
   "execution_count": 10,
   "metadata": {},
   "outputs": [],
   "source": [
    "image = cv2.imread('./MasterOpenCV/images/blobs.jpg')\n",
    "\n",
    "params = cv2.SimpleBlobDetector_Params()\n",
    "\n",
    "params.filterByInertia = True\n",
    "params.minInertiaRatio = 0.1\n",
    "\n",
    "detector = cv2.SimpleBlobDetector_create(params)\n",
    "keypoints = detector.detect(image)\n",
    "\n",
    "output = np.zeros(image.shape)\n",
    "bl = np.zeros((1,1))\n",
    "output = cv2.drawKeypoints(image, keypoints, bl, (0,0,255))\n",
    "cv2.imshow('Output', output)\n",
    "cv2.waitKey()\n",
    "cv2.destroyAllWindows()"
   ]
  },
  {
   "cell_type": "code",
   "execution_count": null,
   "metadata": {},
   "outputs": [],
   "source": []
  }
 ],
 "metadata": {
  "kernelspec": {
   "display_name": "Python 3",
   "language": "python",
   "name": "python3"
  },
  "language_info": {
   "codemirror_mode": {
    "name": "ipython",
    "version": 3
   },
   "file_extension": ".py",
   "mimetype": "text/x-python",
   "name": "python",
   "nbconvert_exporter": "python",
   "pygments_lexer": "ipython3",
   "version": "3.7.3"
  }
 },
 "nbformat": 4,
 "nbformat_minor": 2
}
