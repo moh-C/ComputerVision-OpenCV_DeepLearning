{
 "cells": [
  {
   "cell_type": "code",
   "execution_count": 1,
   "metadata": {},
   "outputs": [],
   "source": [
    "import cv2\n",
    "import numpy as np"
   ]
  },
  {
   "cell_type": "markdown",
   "metadata": {},
   "source": [
    "# SIFT Detection"
   ]
  },
  {
   "cell_type": "code",
   "execution_count": 2,
   "metadata": {},
   "outputs": [
    {
     "name": "stdout",
     "output_type": "stream",
     "text": [
      "Number of Keypoints are: 2989\n"
     ]
    }
   ],
   "source": [
    "img = cv2.imread('./MasterOpenCV/images/input.jpg')\n",
    "gray= cv2.cvtColor(img,cv2.COLOR_BGR2GRAY)\n",
    "\n",
    "sift = cv2.xfeatures2d.SURF_create()\n",
    "kp = sift.detect(gray, None)\n",
    "print('Number of Keypoints are: ' + str(len(kp)))\n",
    "img = cv2.drawKeypoints(gray,kp, None)\n",
    "\n",
    "cv2.imshow('sift_keypoints.jpg',img)\n",
    "cv2.waitKey()\n",
    "cv2.destroyAllWindows()"
   ]
  },
  {
   "cell_type": "markdown",
   "metadata": {},
   "source": [
    "## The most perfect one I've seen\n",
    "https://aishack.in/tutorials/sift-scale-invariant-feature-transform-scale-space/\n",
    "\n",
    "## Side notes\n",
    "https://dsp.stackexchange.com/questions/10605/kernels-to-compute-second-order-derivative-of-digital-image\n",
    "https://en.wikipedia.org/wiki/Separable_filter\n",
    "https://dsp.stackexchange.com/questions/37673/what-is-the-difference-between-difference-of-gaussian-laplace-of-gaussian-and"
   ]
  }
 ],
 "metadata": {
  "kernelspec": {
   "display_name": "Python 3",
   "language": "python",
   "name": "python3"
  },
  "language_info": {
   "codemirror_mode": {
    "name": "ipython",
    "version": 3
   },
   "file_extension": ".py",
   "mimetype": "text/x-python",
   "name": "python",
   "nbconvert_exporter": "python",
   "pygments_lexer": "ipython3",
   "version": "3.7.3"
  }
 },
 "nbformat": 4,
 "nbformat_minor": 2
}
