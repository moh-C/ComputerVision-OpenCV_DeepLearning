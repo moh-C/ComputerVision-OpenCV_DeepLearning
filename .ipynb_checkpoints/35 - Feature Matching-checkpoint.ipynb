{
 "cells": [
  {
   "cell_type": "code",
   "execution_count": 344,
   "metadata": {},
   "outputs": [],
   "source": [
    "import cv2\n",
    "import numpy as np\n",
    "from cv2Utilities import *"
   ]
  },
  {
   "cell_type": "code",
   "execution_count": 345,
   "metadata": {},
   "outputs": [],
   "source": [
    "image = load_image(0)\n",
    "show(image)"
   ]
  },
  {
   "cell_type": "code",
   "execution_count": null,
   "metadata": {},
   "outputs": [],
   "source": []
  },
  {
   "cell_type": "code",
   "execution_count": 342,
   "metadata": {},
   "outputs": [],
   "source": [
    "image = load_image(1)\n",
    "edge = canny(image, 5, 70)\n",
    "dilated = dilate(edge, 7, 9)\n",
    "eroded = erode(dilated, 7, 9)\n",
    "cnt = contours(eroded, method=50)[0]\n",
    "fin, approx = boundingRect(image, cnt)\n",
    "show(fin)"
   ]
  },
  {
   "cell_type": "code",
   "execution_count": 347,
   "metadata": {},
   "outputs": [],
   "source": [
    "image = load_image(2)\n",
    "show(warping(image, 1000))"
   ]
  },
  {
   "cell_type": "markdown",
   "metadata": {},
   "source": [
    "## Drawing Circles on the origins"
   ]
  },
  {
   "cell_type": "code",
   "execution_count": 343,
   "metadata": {},
   "outputs": [],
   "source": [
    "for pnt in approx:\n",
    "    cx, cy = pnt[0][0], pnt[0][1]\n",
    "    cv2.circle(image, (cx, cy), 10, (0,0,255), 3)\n",
    "show(image)"
   ]
  }
 ],
 "metadata": {
  "kernelspec": {
   "display_name": "Python 3",
   "language": "python",
   "name": "python3"
  },
  "language_info": {
   "codemirror_mode": {
    "name": "ipython",
    "version": 3
   },
   "file_extension": ".py",
   "mimetype": "text/x-python",
   "name": "python",
   "nbconvert_exporter": "python",
   "pygments_lexer": "ipython3",
   "version": "3.7.3"
  }
 },
 "nbformat": 4,
 "nbformat_minor": 2
}
