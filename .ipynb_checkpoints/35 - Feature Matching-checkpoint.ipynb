{
 "cells": [
  {
   "cell_type": "code",
   "execution_count": 93,
   "metadata": {},
   "outputs": [],
   "source": [
    "import cv2\n",
    "import numpy as np"
   ]
  },
  {
   "cell_type": "code",
   "execution_count": 113,
   "metadata": {},
   "outputs": [],
   "source": [
    "image = cv2.imread('./MasterOpenCV/feature/0.jpg')"
   ]
  },
  {
   "cell_type": "code",
   "execution_count": 128,
   "metadata": {},
   "outputs": [],
   "source": [
    "def gray(image):\n",
    "    if image.shape[2] == 3:\n",
    "        return cv2.cvtColor(image.copy(), cv2.COLOR_BGR2GRAY)\n",
    "    return image\n",
    "\n",
    "def canny(image, min_Value=30, max_Value=250):\n",
    "    gry = gray(cv2.GaussianBlur(image, (3,3), 1))\n",
    "    return cv2.Canny(gry, min_Value, max_Value)\n",
    "\n",
    "def otsu_(image):\n",
    "    img = gray(image.copy())\n",
    "    blur = cv2.GaussianBlur(img, (5,5), 2)\n",
    "    _, th = cv2.threshold(blur, 0, 250, cv2.THRESH_OTSU)\n",
    "    return th\n",
    "\n",
    "def laplacian(image):\n",
    "    return cv2.Laplacian(gray(image), cv2.CV_64F)\n",
    "    \n",
    "def sobel(image):\n",
    "    return cv2.Sobel(gray(image), cv2.CV_64F, 1, 1, ksize=3)\n",
    "    \n",
    "def contours(image, method=1):\n",
    "    edge = None\n",
    "    if method==1:\n",
    "        edge = canny(image)\n",
    "    elif method==2:\n",
    "        edge = laplacian(image)\n",
    "    elif method==3:\n",
    "        edge = sobel(image)\n",
    "    else:\n",
    "        edge = image\n",
    "    _, contours, _ = cv2.findContours(edge.copy(), cv2.RETR_LIST, cv2.CHAIN_APPROX_NONE)\n",
    "    sorted_areas = sorted(contours, key=cv2.contourArea ,reverse=True)\n",
    "    return sorted_areas\n",
    "\n",
    "def drawContours(image, contour):\n",
    "    copy = np.zeros(image.shape, dtype=np.uint8)\n",
    "    return cv2.drawContours(copy, contour, -1, (0,255,0), 3)\n",
    "\n",
    "def apply_kernel(image):\n",
    "    kernel = np.float32([[0,-1,0],\n",
    "                         [-1,4,-1],\n",
    "                         [0,-1,0]], dtype=np.uint8)\n",
    "    gry = gray(cv2.GaussianBlur(image, (7,7), 2))\n",
    "    return cv2.filter2D(gry, -1, kernel)\n",
    "\n",
    "def lines(image, minVal=5, maxVal=40, thresh=140):\n",
    "    image_ = image.copy()\n",
    "    edge = canny(image_, minVal, maxVal)\n",
    "\n",
    "    lines = cv2.HoughLines(edge, 1, np.pi/180, thresh)\n",
    "    for line_ in lines:\n",
    "        rho = line_[0][0]\n",
    "        theta = line_[0][1]\n",
    "        a = np.cos(theta)\n",
    "        b = np.sin(theta)\n",
    "        x0 = a * rho\n",
    "        y0 = b * rho\n",
    "        x1 = int(x0 + 1000 * (-b))\n",
    "        y1 = int(y0 + 1000 * (a))\n",
    "        x2 = int(x0 - 1000 * (-b))\n",
    "        y2 = int(y0 - 1000 * (a))\n",
    "        cv2.line(image_, (x1, y1), (x2, y2), (255, 0, 0), 2)\n",
    "    return image_\n",
    "\n",
    "def dilate(image, ksize=3, iter=1):\n",
    "    kernel = np.ones((ksize,ksize))\n",
    "    return cv2.dilate(image, kernel, iterations=iter)\n",
    "\n",
    "def erode(image, ksize=3, iter=1):\n",
    "    kernel = np.ones((ksize,ksize))\n",
    "    return cv2.erode(image, kernel, iterations=iter)\n",
    "\n",
    "def boundingRect(image, cnt):\n",
    "    x, y, w, h = cv2.boundingRect(cnt)\n",
    "    return cv2.rectangle(image.copy(), (x,y), (x+w,y+h), (0,0,255), 3)\n",
    "\n",
    "def show(image):\n",
    "    cv2.imshow('Image', image)\n",
    "    cv2.waitKey()\n",
    "    cv2.destroyAllWindows()"
   ]
  },
  {
   "cell_type": "code",
   "execution_count": 129,
   "metadata": {},
   "outputs": [],
   "source": [
    "edge = canny(image, 5, 50)\n",
    "dilated = dilate(edge, 3, 5)\n",
    "eroded = erode(dilated, 3, 5)\n",
    "cnt = contours(eroded, method=50)[0]\n",
    "show(boundingRect(image, cnt))"
   ]
  },
  {
   "cell_type": "code",
   "execution_count": 127,
   "metadata": {},
   "outputs": [],
   "source": []
  },
  {
   "cell_type": "code",
   "execution_count": null,
   "metadata": {},
   "outputs": [],
   "source": []
  }
 ],
 "metadata": {
  "kernelspec": {
   "display_name": "Python 3",
   "language": "python",
   "name": "python3"
  },
  "language_info": {
   "codemirror_mode": {
    "name": "ipython",
    "version": 3
   },
   "file_extension": ".py",
   "mimetype": "text/x-python",
   "name": "python",
   "nbconvert_exporter": "python",
   "pygments_lexer": "ipython3",
   "version": "3.7.3"
  }
 },
 "nbformat": 4,
 "nbformat_minor": 2
}
