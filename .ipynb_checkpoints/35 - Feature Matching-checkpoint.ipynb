{
 "cells": [
  {
   "cell_type": "code",
   "execution_count": 1,
   "metadata": {},
   "outputs": [],
   "source": [
    "from cv2Utilities import *"
   ]
  },
  {
   "cell_type": "code",
   "execution_count": null,
   "metadata": {},
   "outputs": [],
   "source": [
    "image = load_image(0)\n",
    "show(warping(image, 1000))"
   ]
  },
  {
   "cell_type": "markdown",
   "metadata": {},
   "source": [
    "# Some Parameters for better results"
   ]
  },
  {
   "cell_type": "code",
   "execution_count": null,
   "metadata": {},
   "outputs": [],
   "source": [
    "image = load_image(1)\n",
    "edge = canny(image, 5, 70)\n",
    "dilated = dilate(edge, 7, 9)\n",
    "eroded = erode(dilated, 7, 9)\n",
    "cnt = contours(eroded, method=50)[0]\n",
    "fin, approx = boundingRect(image, cnt)\n",
    "show(fin)"
   ]
  },
  {
   "cell_type": "markdown",
   "metadata": {},
   "source": [
    "## Drawing Circles on the origins"
   ]
  },
  {
   "cell_type": "code",
   "execution_count": null,
   "metadata": {},
   "outputs": [],
   "source": [
    "for pnt in approx:\n",
    "    cx, cy = pnt[0][0], pnt[0][1]\n",
    "    cv2.circle(image, (cx, cy), 10, (0,0,255), 3)\n",
    "show(image)"
   ]
  },
  {
   "cell_type": "markdown",
   "metadata": {},
   "source": [
    "## Feature matching"
   ]
  },
  {
   "cell_type": "code",
   "execution_count": null,
   "metadata": {},
   "outputs": [],
   "source": [
    "image1 = load_image(0)\n",
    "gray1 = gray(image1)\n",
    "orb = cv2.ORB_create(900)\n",
    "keypoints1 = orb.detect(gray1, None)\n",
    "keypoints1, descriptors1 = orb.compute(gray1, keypoints1)\n",
    "print(\"Number of keypoints Detected: \", len(keypoints1))\n",
    "show(cv2.drawKeypoints(image1, keypoints1, None, flags=cv2.DRAW_MATCHES_FLAGS_DRAW_RICH_KEYPOINTS))"
   ]
  },
  {
   "cell_type": "markdown",
   "metadata": {},
   "source": [
    "### BRIEF with all details"
   ]
  },
  {
   "cell_type": "code",
   "execution_count": null,
   "metadata": {},
   "outputs": [],
   "source": [
    "img1 = load_image(0)\n",
    "gry1 = gray(img1)\n",
    "img2 = load_image(2)\n",
    "gry2 = gray(img2)\n",
    "\n",
    "fast = cv2.FastFeatureDetector_create()\n",
    "brief = cv2.xfeatures2d.BriefDescriptorExtractor_create()\n",
    "\n",
    "kp1 = fast.detect(gry1, None)\n",
    "kp1, des1 = brief.compute(gry1, kp1)\n",
    "kp2 = fast.detect(gry2, None)\n",
    "kp2, des2 = brief.compute(gry2, kp2)\n",
    "\n",
    "bf = cv2.BFMatcher(cv2.NORM_HAMMING, crossCheck=True)\n",
    "matches = bf.match(des1,des2)\n",
    "matches = sorted(matches, key = lambda x:x.distance)\n",
    "show(cv2.drawMatches(img1,kp1,img2,kp2,matches[:20], outImg=None, flags=2))"
   ]
  },
  {
   "cell_type": "markdown",
   "metadata": {},
   "source": [
    "## ORB will all the gory details"
   ]
  },
  {
   "cell_type": "code",
   "execution_count": null,
   "metadata": {},
   "outputs": [],
   "source": [
    "orb = cv2.ORB_create()\n",
    "\n",
    "img1 = load_image(0)\n",
    "img2 = load_image(1)\n",
    "gry1 = gray(img1)\n",
    "gry2 = gray(img2)\n",
    "\n",
    "kp1, des1 = orb.detectAndCompute(gry1,None)\n",
    "kp2, des2 = orb.detectAndCompute(gry2,None)\n",
    "\n",
    "bf = cv2.BFMatcher(cv2.NORM_HAMMING, crossCheck=True)\n",
    "matches = bf.match(des1,des2)\n",
    "matches = sorted(matches, key = lambda x:x.distance)\n",
    "\n",
    "show(cv2.drawMatches(img1,kp1,img2,kp2,matches[:10], outImg=None, flags=2))"
   ]
  },
  {
   "cell_type": "markdown",
   "metadata": {},
   "source": [
    "### BRIEF"
   ]
  },
  {
   "cell_type": "code",
   "execution_count": 16,
   "metadata": {},
   "outputs": [],
   "source": [
    "img1 = load_image(2)\n",
    "img2 = load_image(4)\n",
    "\n",
    "show(BRIEF_compare(img1, img2, 50), name='BRIEF', done=False)\n",
    "show(ORB_compare(img1, img2, nfeature=4000, n=50), name='ORB', done=False)\n",
    "cv2.destroyAllWindows()"
   ]
  },
  {
   "cell_type": "code",
   "execution_count": null,
   "metadata": {},
   "outputs": [],
   "source": []
  },
  {
   "cell_type": "code",
   "execution_count": null,
   "metadata": {},
   "outputs": [],
   "source": []
  }
 ],
 "metadata": {
  "kernelspec": {
   "display_name": "Python 3",
   "language": "python",
   "name": "python3"
  },
  "language_info": {
   "codemirror_mode": {
    "name": "ipython",
    "version": 3
   },
   "file_extension": ".py",
   "mimetype": "text/x-python",
   "name": "python",
   "nbconvert_exporter": "python",
   "pygments_lexer": "ipython3",
   "version": "3.7.3"
  }
 },
 "nbformat": 4,
 "nbformat_minor": 2
}
