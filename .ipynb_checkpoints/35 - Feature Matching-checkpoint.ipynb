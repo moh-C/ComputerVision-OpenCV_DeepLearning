{
 "cells": [
  {
   "cell_type": "code",
   "execution_count": 93,
   "metadata": {},
   "outputs": [],
   "source": [
    "import cv2\n",
    "import numpy as np"
   ]
  },
  {
   "cell_type": "code",
   "execution_count": 113,
   "metadata": {},
   "outputs": [],
   "source": [
    "image = cv2.imread('./MasterOpenCV/feature/0.jpg')"
   ]
  },
  {
   "cell_type": "code",
   "execution_count": 114,
   "metadata": {},
   "outputs": [],
   "source": [
    "def gray(image):\n",
    "    if image.shape[2] == 3:\n",
    "        return cv2.cvtColor(image.copy(), cv2.COLOR_BGR2GRAY)\n",
    "    return image\n",
    "\n",
    "def canny(image, min_Value=30, max_Value=250):\n",
    "    gry = gray(cv2.GaussianBlur(image, (3,3), 1))\n",
    "    return cv2.Canny(gry, min_Value, max_Value)\n",
    "\n",
    "def otsu_(image):\n",
    "    img = gray(image.copy())\n",
    "    blur = cv2.GaussianBlur(img, (5,5), 2)\n",
    "    _, th = cv2.threshold(blur, 0, 250, cv2.THRESH_OTSU)\n",
    "    return th\n",
    "\n",
    "def laplacian(image):\n",
    "    return cv2.Laplacian(gray(image), cv2.CV_64F)\n",
    "    \n",
    "def sobel(image):\n",
    "    return cv2.Sobel(gray(image), cv2.CV_64F, 1, 1, ksize=3)\n",
    "    \n",
    "def contours(image, method=1):\n",
    "    edge = None\n",
    "    if method==1:\n",
    "        edge = canny(image)\n",
    "    elif method==2:\n",
    "        edge = laplacian(image)\n",
    "    elif method==3:\n",
    "        edge = sobel(image)\n",
    "    else:\n",
    "        edge = image\n",
    "    _, contours, _ = cv2.findContours(edge.copy(), cv2.RETR_LIST, cv2.CHAIN_APPROX_NONE)\n",
    "    sorted_areas = sorted(contours, key=cv2.contourArea ,reverse=True)\n",
    "    return sorted_areas\n",
    "\n",
    "def drawContours(image, contour):\n",
    "    copy = np.zeros(image.shape, dtype=np.uint8)\n",
    "    return cv2.drawContours(copy, contour, -1, (0,255,0), 3)\n",
    "\n",
    "def apply_kernel(image):\n",
    "    kernel = np.float32([[0,-1,0],\n",
    "                         [-1,4,-1],\n",
    "                         [0,-1,0]], dtype=np.uint8)\n",
    "    gry = gray(cv2.GaussianBlur(image, (7,7), 2))\n",
    "    return cv2.filter2D(gry, -1, kernel)\n",
    "\n",
    "def lines(image, minVal=5, maxVal=40, thresh=140):\n",
    "    image_ = image.copy()\n",
    "    edge = canny(image_, minVal, maxVal)\n",
    "\n",
    "    lines = cv2.HoughLines(edge, 1, np.pi/180, thresh)\n",
    "    for line_ in lines:\n",
    "        rho = line_[0][0]\n",
    "        theta = line_[0][1]\n",
    "        a = np.cos(theta)\n",
    "        b = np.sin(theta)\n",
    "        x0 = a * rho\n",
    "        y0 = b * rho\n",
    "        x1 = int(x0 + 1000 * (-b))\n",
    "        y1 = int(y0 + 1000 * (a))\n",
    "        x2 = int(x0 - 1000 * (-b))\n",
    "        y2 = int(y0 - 1000 * (a))\n",
    "        cv2.line(image_, (x1, y1), (x2, y2), (255, 0, 0), 2)\n",
    "    return image_\n",
    "\n",
    "def dilate(image, ksize=3, iter=1):\n",
    "    kernel = np.ones((ksize,ksize))\n",
    "    return cv2.dilate(image, kernel, iterations=iter)\n",
    "\n",
    "def erode(image, ksize=3, iter=1):\n",
    "    kernel = np.ones((ksize,ksize))\n",
    "    return cv2.erode(image, kernel, iterations=iter)\n",
    "\n",
    "def show(image):\n",
    "    cv2.imshow('Image', image)\n",
    "    cv2.waitKey()\n",
    "    cv2.destroyAllWindows()"
   ]
  },
  {
   "cell_type": "code",
   "execution_count": 121,
   "metadata": {},
   "outputs": [],
   "source": [
    "edge = canny(image, 5, 50)\n",
    "dilated = dilate(edge, 3, 5)\n",
    "eroded = erode(dilated, 3, 5)\n",
    "show(eroded)"
   ]
  },
  {
   "cell_type": "code",
   "execution_count": 71,
   "metadata": {},
   "outputs": [],
   "source": [
    "cnt = contours(edges, method=50)"
   ]
  },
  {
   "cell_type": "code",
   "execution_count": 73,
   "metadata": {},
   "outputs": [
    {
     "ename": "KeyboardInterrupt",
     "evalue": "",
     "output_type": "error",
     "traceback": [
      "\u001b[1;31m---------------------------------------------------------------------------\u001b[0m",
      "\u001b[1;31mKeyboardInterrupt\u001b[0m                         Traceback (most recent call last)",
      "\u001b[1;32m<ipython-input-73-221b2d6ca025>\u001b[0m in \u001b[0;36m<module>\u001b[1;34m\u001b[0m\n\u001b[0;32m      1\u001b[0m \u001b[1;32mfor\u001b[0m \u001b[0mc\u001b[0m \u001b[1;32min\u001b[0m \u001b[0mcnt\u001b[0m\u001b[1;33m:\u001b[0m\u001b[1;33m\u001b[0m\u001b[1;33m\u001b[0m\u001b[0m\n\u001b[1;32m----> 2\u001b[1;33m     \u001b[0mshow\u001b[0m\u001b[1;33m(\u001b[0m\u001b[0mdrawContours\u001b[0m\u001b[1;33m(\u001b[0m\u001b[0mimage\u001b[0m\u001b[1;33m,\u001b[0m\u001b[0mc\u001b[0m\u001b[1;33m)\u001b[0m\u001b[1;33m)\u001b[0m\u001b[1;33m\u001b[0m\u001b[1;33m\u001b[0m\u001b[0m\n\u001b[0m",
      "\u001b[1;32m<ipython-input-65-a0728b5e4598>\u001b[0m in \u001b[0;36mshow\u001b[1;34m(image)\u001b[0m\n\u001b[0;32m     66\u001b[0m \u001b[1;32mdef\u001b[0m \u001b[0mshow\u001b[0m\u001b[1;33m(\u001b[0m\u001b[0mimage\u001b[0m\u001b[1;33m)\u001b[0m\u001b[1;33m:\u001b[0m\u001b[1;33m\u001b[0m\u001b[1;33m\u001b[0m\u001b[0m\n\u001b[0;32m     67\u001b[0m     \u001b[0mcv2\u001b[0m\u001b[1;33m.\u001b[0m\u001b[0mimshow\u001b[0m\u001b[1;33m(\u001b[0m\u001b[1;34m'Image'\u001b[0m\u001b[1;33m,\u001b[0m \u001b[0mimage\u001b[0m\u001b[1;33m)\u001b[0m\u001b[1;33m\u001b[0m\u001b[1;33m\u001b[0m\u001b[0m\n\u001b[1;32m---> 68\u001b[1;33m     \u001b[0mcv2\u001b[0m\u001b[1;33m.\u001b[0m\u001b[0mwaitKey\u001b[0m\u001b[1;33m(\u001b[0m\u001b[1;33m)\u001b[0m\u001b[1;33m\u001b[0m\u001b[1;33m\u001b[0m\u001b[0m\n\u001b[0m\u001b[0;32m     69\u001b[0m     \u001b[0mcv2\u001b[0m\u001b[1;33m.\u001b[0m\u001b[0mdestroyAllWindows\u001b[0m\u001b[1;33m(\u001b[0m\u001b[1;33m)\u001b[0m\u001b[1;33m\u001b[0m\u001b[1;33m\u001b[0m\u001b[0m\n",
      "\u001b[1;31mKeyboardInterrupt\u001b[0m: "
     ]
    }
   ],
   "source": [
    "for c in cnt:\n",
    "    show(drawContours(image,c))"
   ]
  },
  {
   "cell_type": "code",
   "execution_count": 29,
   "metadata": {},
   "outputs": [],
   "source": [
    "def intersection(line1, line2):\n",
    "    rho1, theta1 = line1[0], line1[1]\n",
    "    rho2, theta2 = line2[0], line2[1]\n",
    "    A = np.array([\n",
    "        [np.cos(theta1), np.sin(theta1)],\n",
    "        [np.cos(theta2), np.sin(theta2)]\n",
    "    ])\n",
    "    b = np.array([[rho1], [rho2]])\n",
    "    x0, y0 = np.linalg.solve(A, b)\n",
    "    x0, y0 = int(np.round(x0)), int(np.round(y0))\n",
    "    return [[x0, y0]]\n",
    "\n",
    "\n",
    "def segmented_intersections(lines):\n",
    "    \"\"\"Finds the intersections between groups of lines.\"\"\"\n",
    "\n",
    "    intersections = []\n",
    "    for i, group in enumerate(lines[:-1]):\n",
    "        for next_group in lines[i+1:]:\n",
    "            for line1 in group:\n",
    "                for line2 in next_group:\n",
    "                    intersections.append(intersection(line1, line2)) \n",
    "\n",
    "    return intersections"
   ]
  },
  {
   "cell_type": "code",
   "execution_count": 67,
   "metadata": {},
   "outputs": [],
   "source": [
    "lines_ = lines(image, minVal=5, maxVal=50, thresh=201)\n",
    "show(lines_)"
   ]
  },
  {
   "cell_type": "code",
   "execution_count": 62,
   "metadata": {},
   "outputs": [],
   "source": [
    "lines = cv2.HoughLines(canny(image, 5, 40), 1, np.pi/180, 201)\n",
    "intersect_points = segmented_intersections(lines[:4])\n",
    "image_ = image.copy()\n",
    "for inter in intersect_points:\n",
    "    cv2.circle(image_, (inter[0][0], inter[0][1]), 20, (0,0,255), 5)\n",
    "show(image_)"
   ]
  }
 ],
 "metadata": {
  "kernelspec": {
   "display_name": "Python 3",
   "language": "python",
   "name": "python3"
  },
  "language_info": {
   "codemirror_mode": {
    "name": "ipython",
    "version": 3
   },
   "file_extension": ".py",
   "mimetype": "text/x-python",
   "name": "python",
   "nbconvert_exporter": "python",
   "pygments_lexer": "ipython3",
   "version": "3.7.3"
  }
 },
 "nbformat": 4,
 "nbformat_minor": 2
}
