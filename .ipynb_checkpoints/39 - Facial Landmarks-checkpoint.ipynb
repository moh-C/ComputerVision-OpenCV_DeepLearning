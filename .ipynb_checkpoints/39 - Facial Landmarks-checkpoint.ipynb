{
 "cells": [
  {
   "cell_type": "code",
   "execution_count": 1,
   "metadata": {},
   "outputs": [],
   "source": [
    "from imutils import face_utils\n",
    "import imutils \n",
    "import dlib \n",
    "import cv2\n",
    "\n",
    "detector = dlib.get_frontal_face_detector() \n",
    "predictor = dlib.shape_predictor('./MasterOpenCV/shape_predictor_68_face_landmarks.dat')\n",
    "\n",
    "count = 0 # initialize the count for the number of faces\n",
    "\n",
    "image = dlib.load_rgb_image(\"./MasterOpenCV/images/obama.jpg\") # loads the image\n",
    "image = cv2.cvtColor(image, cv2.COLOR_BGR2RGB) # OpenCV reads BGR instead of RGB, so we need to convert the colors\n",
    "image = imutils.resize(image, width = 800, height = 600)\n",
    "faces = detector(image, 1)\n",
    "\n",
    "for face in faces:\n",
    "    faceshape = predictor(image, face)\n",
    "    faceshape = face_utils.shape_to_np(faceshape) # convert to numpy array\n",
    "    for (x,y) in faceshape:\n",
    "        cv2.circle(image, (x,y), 1, (255, 255, 255), -1) # display white dots in their respective locations (facial landmarks)\n",
    "    \n",
    "cv2.putText(image,\"Number of faces found: \" + str(len(faces)), (180, 420), cv2.FONT_HERSHEY_DUPLEX, 1, (0,255,0), 2)\n",
    "cv2.imshow(\"Image\", image) # display the image and the landmarks\n",
    "cv2.waitKey()\n",
    "cv2.destroyAllWindows()"
   ]
  }
 ],
 "metadata": {
  "kernelspec": {
   "display_name": "Python 3",
   "language": "python",
   "name": "python3"
  },
  "language_info": {
   "codemirror_mode": {
    "name": "ipython",
    "version": 3
   },
   "file_extension": ".py",
   "mimetype": "text/x-python",
   "name": "python",
   "nbconvert_exporter": "python",
   "pygments_lexer": "ipython3",
   "version": "3.7.0"
  }
 },
 "nbformat": 4,
 "nbformat_minor": 2
}
