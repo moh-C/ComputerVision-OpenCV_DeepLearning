{
 "cells": [
  {
   "cell_type": "code",
   "execution_count": 1,
   "metadata": {},
   "outputs": [],
   "source": [
    "import cv2\n",
    "import numpy as np\n",
    "import random"
   ]
  },
  {
   "cell_type": "markdown",
   "metadata": {},
   "source": [
    "## Reading the Image"
   ]
  },
  {
   "cell_type": "code",
   "execution_count": 2,
   "metadata": {},
   "outputs": [],
   "source": [
    "image = cv2.imread('./MasterOpenCV/images/someshapes.jpg')\n",
    "gray = cv2.cvtColor(image, cv2.COLOR_BGR2GRAY)\n",
    "_, thresh = cv2.threshold(gray, 127, 255, cv2.THRESH_BINARY_INV)\n",
    "contours, _ = cv2.findContours(thresh.copy(), cv2.RETR_LIST, cv2.CHAIN_APPROX_NONE)"
   ]
  },
  {
   "cell_type": "markdown",
   "metadata": {},
   "source": [
    "## Drawing contours"
   ]
  },
  {
   "cell_type": "code",
   "execution_count": 3,
   "metadata": {},
   "outputs": [],
   "source": [
    "org_img = image.copy()\n",
    "cv2.drawContours(org_img, contours, -1, (0,0,255), 3)\n",
    "cv2.imshow('Drawn Contours', org_img)\n",
    "cv2.waitKey()\n",
    "cv2.destroyAllWindows()"
   ]
  },
  {
   "cell_type": "markdown",
   "metadata": {},
   "source": [
    "## Required functions for such action!"
   ]
  },
  {
   "cell_type": "code",
   "execution_count": 6,
   "metadata": {},
   "outputs": [],
   "source": [
    "def center_m(cnt):\n",
    "    M = cv2.moments(cnt)\n",
    "    if int(M[\"m00\"]):\n",
    "        Cx = int(M[\"m10\"] / M[\"m00\"])\n",
    "        Cy = int(M[\"m01\"] / M[\"m00\"])\n",
    "    else:\n",
    "        raise StupidFuckingError\n",
    "    return (Cx, Cy)\n",
    "\n",
    "def shape_identifier(curve):\n",
    "    len_ = len(curve)\n",
    "    if len_ == 3:\n",
    "        return \"Triangle\"\n",
    "    elif len_ == 4:\n",
    "        x, y, w, h = cv2.boundingRect(curve)\n",
    "        if abs((w - h)) < 10:\n",
    "            return \"Square\"\n",
    "        else:\n",
    "            return \"Rectangle\" \n",
    "    elif len_ == 10:\n",
    "        return \"Star\"\n",
    "    elif len_ > 10:\n",
    "        return \"Circle\"\n",
    "    else:\n",
    "        return \"Unidentified\"\n",
    "\n",
    "def drawer(img, cnt, color):\n",
    "    approx = 0.01 * cv2.arcLength(cnt, True)\n",
    "    curve = cv2.approxPolyDP(cnt, approx, True)\n",
    "    name = shape_identifier(curve)\n",
    "    (cx, cy) = center_m(cnt)\n",
    "    cv2.putText(img, str(name), (cx-20, cy+20) ,cv2.FONT_HERSHEY_COMPLEX, 0.5, color, 1)\n",
    "    cv2.circle(img, (cx, cy), 4, color, 2)\n",
    "    cv2.drawContours(img, cnt, -1, color, 2)"
   ]
  },
  {
   "cell_type": "markdown",
   "metadata": {},
   "source": [
    "# Performing the identification"
   ]
  },
  {
   "cell_type": "code",
   "execution_count": 7,
   "metadata": {},
   "outputs": [],
   "source": [
    "image_ = np.zeros(gray.shape)\n",
    "image_ = image.copy()\n",
    "for cnt in contours:\n",
    "    color = (random.randint(0,255), random.randint(0,255), random.randint(0,255))\n",
    "    drawer(image_, cnt, color)\n",
    "    cv2.imshow('Image', image_)\n",
    "cv2.waitKey()\n",
    "cv2.destroyAllWindows()"
   ]
  }
 ],
 "metadata": {
  "kernelspec": {
   "display_name": "Python 3",
   "language": "python",
   "name": "python3"
  },
  "language_info": {
   "codemirror_mode": {
    "name": "ipython",
    "version": 3
   },
   "file_extension": ".py",
   "mimetype": "text/x-python",
   "name": "python",
   "nbconvert_exporter": "python",
   "pygments_lexer": "ipython3",
   "version": "3.7.3"
  }
 },
 "nbformat": 4,
 "nbformat_minor": 2
}
