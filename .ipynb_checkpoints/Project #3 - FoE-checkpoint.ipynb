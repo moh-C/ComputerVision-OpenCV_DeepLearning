{
 "cells": [
  {
   "cell_type": "code",
   "execution_count": 1,
   "metadata": {},
   "outputs": [],
   "source": [
    "import cv2\n",
    "import numpy as np"
   ]
  },
  {
   "cell_type": "markdown",
   "metadata": {},
   "source": [
    "# The Function for finding all the templates!"
   ]
  },
  {
   "cell_type": "code",
   "execution_count": 6,
   "metadata": {},
   "outputs": [],
   "source": [
    "def template_finder(image, template, threshold=0.8, count=False):\n",
    "    output, img_gray, blank = image.copy(), image.copy(), image.copy() * 0\n",
    "    \n",
    "    if img_gray.shape[2] == 3:\n",
    "        img_gray = cv2.cvtColor(img_gray, cv2.COLOR_BGR2GRAY)\n",
    "    \n",
    "    if template.shape[2] == 3:\n",
    "        template = cv2.cvtColor(template, cv2.COLOR_BGR2GRAY)\n",
    "    \n",
    "    w, h = template.shape[::-1]\n",
    "    res = cv2.matchTemplate(img_gray,template,cv2.TM_CCOEFF_NORMED)\n",
    "    loc = np.where( res >= threshold)\n",
    "    for (i, pt) in enumerate(zip(*loc[::-1])):\n",
    "        cv2.rectangle(blank, pt, (pt[0] + w, pt[1] + h), (0,0,255), 2)\n",
    "        cv2.rectangle(output, pt, (pt[0] + w, pt[1] + h), (0,0,255), 2)\n",
    "    \n",
    "    edged = cv2.Canny(blank, 50, 255)\n",
    "    \n",
    "    cv2.imshow('Edged', edged)\n",
    "    cv2.waitKey()\n",
    "\n",
    "    cv2.destroyAllWindows()\n",
    "    \n",
    "    contour = cv2.findContours(edged, cv2.RETR_EXTERNAL, cv2.CHAIN_APPROX_NONE)\n",
    "    number_ = len(contour)\n",
    "    print(number_)\n",
    "    \n",
    "    if count:\n",
    "        return (output, number_)\n",
    "    return output"
   ]
  },
  {
   "cell_type": "markdown",
   "metadata": {},
   "source": [
    "## Driver Code"
   ]
  },
  {
   "cell_type": "code",
   "execution_count": null,
   "metadata": {},
   "outputs": [],
   "source": [
    "mainCity = cv2.imread('./MasterOpenCV/FoE/Something.png')\n",
    "aiding = cv2.imread('./MasterOpenCV/FoE/Aid.png')\n",
    "FT = cv2.imread('./MasterOpenCV/FoE/FT.png')\n",
    "GB = cv2.imread('./MasterOpenCV/FoE/GB.png')\n",
    "MPed = cv2.imread('./MasterOpenCV/FoE/Motivated.png')\n",
    "barrack = cv2.imread('./MasterOpenCV/FoE/Barrack.png')\n",
    "\n",
    "(toBeAided, noAid) = template_finder(mainCity, aiding, count=True)\n",
    "print(noAid)\n",
    "friendTavern = template_finder(mainCity, FT)\n",
    "GB = template_finder(mainCity, GB)\n",
    "Motivated = template_finder(mainCity, MPed, threshold=0.5)\n",
    "Troops = template_finder(mainCity, barrack)\n",
    "\n",
    "cv2.imshow('Ready troops', Troops)\n",
    "cv2.waitKey()\n",
    "cv2.imshow('Aiding', toBeAided)\n",
    "cv2.waitKey()\n",
    "cv2.imshow('Friend Tavern', friendTavern)\n",
    "cv2.waitKey()\n",
    "cv2.imshow('Great Buildings', GB)\n",
    "cv2.waitKey()\n",
    "cv2.imshow('Motivated', Motivated)\n",
    "cv2.waitKey()\n",
    "\n",
    "cv2.destroyAllWindows()"
   ]
  },
  {
   "cell_type": "code",
   "execution_count": 7,
   "metadata": {},
   "outputs": [
    {
     "name": "stdout",
     "output_type": "stream",
     "text": [
      "3\n"
     ]
    },
    {
     "data": {
      "text/plain": [
       "3"
      ]
     },
     "execution_count": 7,
     "metadata": {},
     "output_type": "execute_result"
    }
   ],
   "source": [
    "armyManagement = cv2.imread('./MasterOpenCV/FoE/Army/ArmyManagement.png')\n",
    "hoverTank_1 = cv2.imread('./MasterOpenCV/FoE/Army/HoverTank.png')\n",
    "hoverTank_2 = cv2.imread('./MasterOpenCV/FoE/Army/HoverTank_2.png')\n",
    "\n",
    "# cv2.imshow('Army Management', armyManagement)\n",
    "# cv2.waitKey()\n",
    "# cv2.imshow('Army Management', hoverTank_1)\n",
    "# cv2.waitKey()\n",
    "# cv2.imshow('Army Management', hoverTank_2)\n",
    "# cv2.waitKey()\n",
    "\n",
    "# cv2.destroyAllWindows()\n",
    "nHovers, count_ = template_finder(armyManagement, hoverTank_1, count= True)\n",
    "\n",
    "cv2.imshow('Army Management', nHovers)\n",
    "cv2.waitKey()\n",
    "\n",
    "cv2.destroyAllWindows()\n",
    "\n",
    "count_\n"
   ]
  },
  {
   "cell_type": "code",
   "execution_count": null,
   "metadata": {},
   "outputs": [],
   "source": []
  }
 ],
 "metadata": {
  "kernelspec": {
   "display_name": "Python 3",
   "language": "python",
   "name": "python3"
  },
  "language_info": {
   "codemirror_mode": {
    "name": "ipython",
    "version": 3
   },
   "file_extension": ".py",
   "mimetype": "text/x-python",
   "name": "python",
   "nbconvert_exporter": "python",
   "pygments_lexer": "ipython3",
   "version": "3.7.0"
  }
 },
 "nbformat": 4,
 "nbformat_minor": 2
}
