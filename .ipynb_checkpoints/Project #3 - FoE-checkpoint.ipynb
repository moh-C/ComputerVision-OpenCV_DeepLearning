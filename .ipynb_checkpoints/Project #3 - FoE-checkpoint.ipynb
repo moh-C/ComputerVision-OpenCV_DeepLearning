{
 "cells": [
  {
   "cell_type": "code",
   "execution_count": 1,
   "metadata": {},
   "outputs": [],
   "source": [
    "import cv2\n",
    "import numpy as np"
   ]
  },
  {
   "cell_type": "markdown",
   "metadata": {},
   "source": [
    "# Class for army management"
   ]
  },
  {
   "cell_type": "code",
   "execution_count": null,
   "metadata": {},
   "outputs": [],
   "source": [
    "class ArmyManagement():\n",
    "    def __init__(self, )"
   ]
  },
  {
   "cell_type": "markdown",
   "metadata": {},
   "source": [
    "# The Function for finding all the templates!"
   ]
  },
  {
   "cell_type": "code",
   "execution_count": 10,
   "metadata": {},
   "outputs": [],
   "source": [
    "def template_finder(image, template, threshold=0.8, count=False):\n",
    "    output, img_gray, blank = image.copy(), image.copy(), image.copy() * 0\n",
    "    blank_cnt = image.copy() * 0\n",
    "    \n",
    "    if img_gray.shape[2] == 3:\n",
    "        img_gray = cv2.cvtColor(img_gray, cv2.COLOR_BGR2GRAY)\n",
    "    \n",
    "    if template.shape[2] == 3:\n",
    "        template = cv2.cvtColor(template, cv2.COLOR_BGR2GRAY)\n",
    "    \n",
    "    w, h = template.shape[::-1]\n",
    "    res = cv2.matchTemplate(img_gray,template,cv2.TM_CCOEFF_NORMED)\n",
    "    loc = np.where( res >= threshold)\n",
    "    for (i, pt) in enumerate(zip(*loc[::-1])):\n",
    "        cv2.rectangle(blank, pt, (pt[0] + w, pt[1] + h), (0,0,255), 2)\n",
    "        cv2.rectangle(output, pt, (pt[0] + w, pt[1] + h), (0,0,255), 2)\n",
    "    \n",
    "    edged = cv2.Canny(blank, 50, 255)\n",
    "    \n",
    "#     contour = cv2.findContours(edged, cv2.RETR_CCOMP, cv2.CHAIN_APPROX_SIMPLE)\n",
    "    im2, contours, hierarchy = cv2.findContours(edged, cv2.RETR_TREE, cv2.CHAIN_APPROX_SIMPLE)\n",
    "    \n",
    "    for i, cnt in enumerate(contours):\n",
    "#         print(cv2.contourArea(cnt))\n",
    "        if cv2.contourArea(cnt) > 3000.0:\n",
    "            if i % 2:\n",
    "                print(cv2.contourArea(cnt))\n",
    "                cv2.drawContours(blank_cnt, [cnt], -1, (0,255,0), 2)\n",
    "                cv2.imshow('Blank', blank_cnt)\n",
    "                cv2.waitKey()\n",
    "    \n",
    "    return im2\n",
    "    # number_ = len(contours)/4\n",
    "#     number_ = 2\n",
    "    \n",
    "#     if count:\n",
    "#         return (output, int(number_))\n",
    "#     return output"
   ]
  },
  {
   "cell_type": "markdown",
   "metadata": {},
   "source": [
    "## Driver Code"
   ]
  },
  {
   "cell_type": "code",
   "execution_count": 15,
   "metadata": {},
   "outputs": [
    {
     "name": "stdout",
     "output_type": "stream",
     "text": [
      "3401.0\n",
      "3401.0\n",
      "3401.0\n",
      "3401.0\n",
      "3401.0\n",
      "3401.0\n",
      "3401.0\n",
      "3401.0\n",
      "3401.0\n",
      "3401.0\n",
      "3401.0\n",
      "3401.0\n",
      "3401.0\n"
     ]
    }
   ],
   "source": [
    "armyManagement = cv2.imread('./MasterOpenCV/FoE/Army/ArmyManagement.png')\n",
    "armyManagement_hurt = cv2.imread('./MasterOpenCV/FoE/Army/ArmyManagement_HurtUnits.png')\n",
    "\n",
    "hoverTank_1 = cv2.imread('./MasterOpenCV/FoE/Army/HoverTank.png')\n",
    "hoverTank_2 = cv2.imread('./MasterOpenCV/FoE/Army/HoverTank_2.png')\n",
    "Rogue = cv2.imread('./MasterOpenCV/FoE/Army/Rogue.png')\n",
    "\n",
    "# cv2.imshow('Army Management', armyManagement)\n",
    "# cv2.waitKey()\n",
    "# cv2.imshow('Army Management', hoverTank_1)\n",
    "# cv2.waitKey()\n",
    "# cv2.imshow('Army Management', hoverTank_2)\n",
    "# cv2.waitKey()\n",
    "# cv2.destroyAllWindows()\n",
    "\n",
    "# nRogues, rogueCount = template_finder(armyManagement_hurt, Rogue, threshold= 0.9, count= True)\n",
    "# nHovers, hoverCount = template_finder(armyManagement_hurt, hoverTank_1, threshold= 0.8, count= True)\n",
    "\n",
    "nRogues = template_finder(armyManagement_hurt, hoverTank_2, threshold= 0.8, count= True)\n",
    "cv2.destroyAllWindows()\n",
    "\n",
    "\n",
    "# cv2.imshow('Army Management', nRogues)\n",
    "# cv2.waitKey()\n",
    "# cv2.destroyAllWindows()\n",
    "\n",
    "# hoverCount"
   ]
  },
  {
   "cell_type": "markdown",
   "metadata": {},
   "source": [
    "## Old Project"
   ]
  },
  {
   "cell_type": "code",
   "execution_count": null,
   "metadata": {
    "scrolled": true
   },
   "outputs": [],
   "source": [
    "mainCity = cv2.imread('./MasterOpenCV/FoE/Something.png')\n",
    "aiding = cv2.imread('./MasterOpenCV/FoE/Aid.png')\n",
    "FT = cv2.imread('./MasterOpenCV/FoE/FT.png')\n",
    "GB = cv2.imread('./MasterOpenCV/FoE/GB.png')\n",
    "MPed = cv2.imread('./MasterOpenCV/FoE/Motivated.png')\n",
    "barrack = cv2.imread('./MasterOpenCV/FoE/Barrack.png')\n",
    "\n",
    "(toBeAided, noAid) = template_finder(mainCity, aiding, count=True)\n",
    "print(noAid)\n",
    "friendTavern = template_finder(mainCity, FT)\n",
    "GB = template_finder(mainCity, GB)\n",
    "Motivated = template_finder(mainCity, MPed, threshold=0.5)\n",
    "Troops = template_finder(mainCity, barrack)\n",
    "\n",
    "cv2.imshow('Ready troops', Troops)\n",
    "cv2.waitKey()\n",
    "cv2.imshow('Aiding', toBeAided)\n",
    "cv2.waitKey()\n",
    "cv2.imshow('Friend Tavern', friendTavern)\n",
    "cv2.waitKey()\n",
    "cv2.imshow('Great Buildings', GB)\n",
    "cv2.waitKey()\n",
    "cv2.imshow('Motivated', Motivated)\n",
    "cv2.waitKey()\n",
    "\n",
    "cv2.destroyAllWindows()"
   ]
  }
 ],
 "metadata": {
  "kernelspec": {
   "display_name": "Python 3",
   "language": "python",
   "name": "python3"
  },
  "language_info": {
   "codemirror_mode": {
    "name": "ipython",
    "version": 3
   },
   "file_extension": ".py",
   "mimetype": "text/x-python",
   "name": "python",
   "nbconvert_exporter": "python",
   "pygments_lexer": "ipython3",
   "version": "3.7.0"
  }
 },
 "nbformat": 4,
 "nbformat_minor": 2
}
