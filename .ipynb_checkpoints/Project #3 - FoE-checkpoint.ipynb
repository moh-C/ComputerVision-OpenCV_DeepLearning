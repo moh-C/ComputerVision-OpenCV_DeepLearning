{
 "cells": [
  {
   "cell_type": "code",
   "execution_count": 2,
   "metadata": {},
   "outputs": [
    {
     "name": "stderr",
     "output_type": "stream",
     "text": [
      "Using TensorFlow backend.\n"
     ]
    }
   ],
   "source": [
    "import cv2\n",
    "import numpy as np\n",
    "import keras"
   ]
  },
  {
   "cell_type": "markdown",
   "metadata": {},
   "source": [
    "## Class of Classifier"
   ]
  },
  {
   "cell_type": "code",
   "execution_count": 3,
   "metadata": {},
   "outputs": [],
   "source": [
    "class LinearClassifier():\n",
    "    def __init__(self, Rogue, Hover):\n",
    "        self.epochs = 1000\n",
    "        self.hover = self.preprocess_data(Hover)\n",
    "        self.rogue = self.preprocess_data(Rogue)\n",
    "        \n",
    "        self.model = model = keras.models.Sequential([\n",
    "            keras.layers.InputLayer((74,60,3)),\n",
    "            keras.layers.Flatten(),\n",
    "            keras.layers.Dense(1, activation= 'sigmoid')\n",
    "        ])\n",
    "    \n",
    "    @staticmethod\n",
    "    def preprocess_data(image):\n",
    "        image_toresize = image.copy()\n",
    "        height, width = image_toresize.shape[:2]\n",
    "        blank_image = np.zeros((74, 60, 3), np.uint8)\n",
    "        blank_image[:,:] = (255,255,255)\n",
    "        l_img = blank_image.copy()\n",
    "        x_offset = 30 - int(width/2)\n",
    "        y_offset = 37 - int(height/2)\n",
    "        l_img[y_offset:y_offset+height, x_offset:x_offset+width] = image_toresize.copy()\n",
    "        return np.array(l_img[np.newaxis, :, :, :])\n",
    "    \n",
    "    def prep_data(self):\n",
    "        _hover = self.hover\n",
    "        _rogue = self.rogue\n",
    "        X_train = np.vstack([_hover, _rogue])\n",
    "        y_train = np.array([1,0])\n",
    "        return X_train, y_train\n",
    "        \n",
    "    def train_classifier(self):\n",
    "        X_train, y_train = self.prep_data()\n",
    "        self.model.compile(optimizer= keras.optimizers.SGD(1e-3), loss= keras.losses.binary_crossentropy)\n",
    "        self.model.fit(X_train, y_train, epochs= self.epochs, verbose=0)\n",
    "        return self.model"
   ]
  },
  {
   "cell_type": "markdown",
   "metadata": {},
   "source": [
    "# Class for army management"
   ]
  },
  {
   "cell_type": "code",
   "execution_count": 16,
   "metadata": {},
   "outputs": [],
   "source": [
    "class ArmyManagement():\n",
    "    def __init__(self, army_m_window, unit, classifier, threshold= 0.8):\n",
    "        self.army_m_window = army_m_window\n",
    "        self.unit = unit\n",
    "        self.classifier = classifier\n",
    "        self.model = classifier.train_classifier()\n",
    "        \n",
    "        self.found_units = []\n",
    "        self.blank = army_m_window.copy() * 0\n",
    "        \n",
    "        self.result_blank = army_m_window.copy() * 0\n",
    "        self.result = army_m_window.copy()\n",
    "        \n",
    "        self.threshold = threshold\n",
    "        self.n_found_units = 0\n",
    "        \n",
    "        self.counter = 0\n",
    "        self.template_finder()\n",
    "    \n",
    "    def process_contours(self, cnt):\n",
    "        x_min = min(cnt[:, 0][:, 0])\n",
    "        x_max = max(cnt[:, 0][:, 0])\n",
    "        y_min = min(cnt[:, 0][:, 1])\n",
    "        y_max = max(cnt[:, 0][:, 1])\n",
    "        result = self.army_m_window[y_min:y_max, x_min:x_max]\n",
    "        result = self.classifier.preprocess_data(result)\n",
    "        self.process_found_units(result)\n",
    "    \n",
    "    def process_found_units(self, unit_):\n",
    "        class_ = int(self.model.predict(unit_))\n",
    "        self.found_units.append(unit_)\n",
    "        self.counter =+ 1\n",
    "        path = f'./MasterOpenCV/FoE/Army/Image_{class_}_{self.counter}.png'\n",
    "        cv2.imwrite(path, unit_[0])\n",
    "        \n",
    "    \n",
    "    def template_finder(self):\n",
    "        img_gray = self.army_m_window.copy()\n",
    "        template = self.unit.copy()\n",
    "        \n",
    "        if img_gray.shape[2] == 3:\n",
    "            img_gray = cv2.cvtColor(img_gray, cv2.COLOR_BGR2GRAY)\n",
    "\n",
    "        if template.shape[2] == 3:\n",
    "            template = cv2.cvtColor(template, cv2.COLOR_BGR2GRAY)\n",
    "\n",
    "        w, h = template.shape[::-1]\n",
    "        res = cv2.matchTemplate(img_gray, template, cv2.TM_CCOEFF_NORMED)\n",
    "        \n",
    "        loc = np.where( res >= self.threshold)\n",
    "        for pt in zip(*loc[::-1]):\n",
    "            cv2.rectangle(self.result_blank, pt, (pt[0] + w, pt[1] + h), (0,0,255), 2)\n",
    "            cv2.rectangle(self.result, pt, (pt[0] + w, pt[1] + h), (0,0,255), 2)\n",
    "\n",
    "        edged = cv2.Canny(self.result_blank, 50, 255)\n",
    "        im2, contours, hierarchy = cv2.findContours(edged, cv2.RETR_TREE, cv2.CHAIN_APPROX_SIMPLE)\n",
    "\n",
    "        # TODO: A better algorithm for implementing this\n",
    "        for i, cnt in enumerate(contours):\n",
    "            if cv2.contourArea(cnt) > 3000.0:\n",
    "                if i % 2:\n",
    "                    self.process_contours(cnt)\n",
    "\n",
    "        self.n_found_units = int(len(contours)/4)"
   ]
  },
  {
   "cell_type": "code",
   "execution_count": 23,
   "metadata": {},
   "outputs": [],
   "source": [
    "armyManagement = cv2.imread('./MasterOpenCV/FoE/Army/ArmyManagement.png')\n",
    "armyManagement_cut = cv2.imread('./MasterOpenCV/FoE/Army/ArmyManagement_cut.png')\n",
    "armyManagement_hurt = cv2.imread('./MasterOpenCV/FoE/Army/ArmyManagement_HurtUnits.png')\n",
    "\n",
    "hoverTank_1 = cv2.imread('./MasterOpenCV/FoE/Army/HoverTank.png')\n",
    "hoverTank_2 = cv2.imread('./MasterOpenCV/FoE/Army/HoverTank_2.png')\n",
    "Rogue = cv2.imread('./MasterOpenCV/FoE/Army/Rogue.png')\n",
    "\n",
    "LC = LinearClassifier(Rogue= Rogue, Hover= hoverTank_1)\n",
    "army = ArmyManagement(army_m_window= armyManagement_hurt, unit=hoverTank_1, classifier= LC)"
   ]
  },
  {
   "cell_type": "code",
   "execution_count": 24,
   "metadata": {},
   "outputs": [],
   "source": [
    "for i, im in enumerate(army.found_units):\n",
    "    cv2.imwrite(f'./MasterOpenCV/FoE/Army/FoundUnits/im_{i}.png',im[0])"
   ]
  },
  {
   "cell_type": "markdown",
   "metadata": {},
   "source": [
    "## Driver Code"
   ]
  },
  {
   "cell_type": "code",
   "execution_count": null,
   "metadata": {},
   "outputs": [],
   "source": [
    "armyManagement = cv2.imread('./MasterOpenCV/FoE/Army/ArmyManagement.png')\n",
    "armyManagement_hurt = cv2.imread('./MasterOpenCV/FoE/Army/ArmyManagement_HurtUnits.png')\n",
    "\n",
    "hoverTank_1 = cv2.imread('./MasterOpenCV/FoE/Army/HoverTank.png')\n",
    "hoverTank_2 = cv2.imread('./MasterOpenCV/FoE/Army/HoverTank_2.png')\n",
    "Rogue = cv2.imread('./MasterOpenCV/FoE/Army/Rogue.png')\n",
    "\n",
    "# cv2.imshow('Army Management', armyManagement)\n",
    "# cv2.waitKey()\n",
    "# cv2.imshow('Army Management', hoverTank_1)\n",
    "# cv2.waitKey()\n",
    "# cv2.imshow('Army Management', hoverTank_2)\n",
    "# cv2.waitKey()\n",
    "# cv2.destroyAllWindows()\n",
    "\n",
    "# nRogues, rogueCount = template_finder(armyManagement_hurt, Rogue, threshold= 0.9, count= True)\n",
    "# nHovers, hoverCount = template_finder(armyManagement_hurt, hoverTank_1, threshold= 0.8, count= True)\n",
    "\n",
    "nRogues = template_finder(armyManagement_hurt, hoverTank_2, threshold= 0.8, count= True)\n",
    "cv2.destroyAllWindows()\n",
    "\n",
    "\n",
    "# cv2.imshow('Army Management', nRogues)\n",
    "# cv2.waitKey()\n",
    "# cv2.destroyAllWindows()\n",
    "\n",
    "# hoverCount"
   ]
  },
  {
   "cell_type": "markdown",
   "metadata": {},
   "source": [
    "## Old Project"
   ]
  },
  {
   "cell_type": "code",
   "execution_count": null,
   "metadata": {
    "scrolled": true
   },
   "outputs": [],
   "source": [
    "mainCity = cv2.imread('./MasterOpenCV/FoE/Something.png')\n",
    "aiding = cv2.imread('./MasterOpenCV/FoE/Aid.png')\n",
    "FT = cv2.imread('./MasterOpenCV/FoE/FT.png')\n",
    "GB = cv2.imread('./MasterOpenCV/FoE/GB.png')\n",
    "MPed = cv2.imread('./MasterOpenCV/FoE/Motivated.png')\n",
    "barrack = cv2.imread('./MasterOpenCV/FoE/Barrack.png')\n",
    "\n",
    "(toBeAided, noAid) = template_finder(mainCity, aiding, count=True)\n",
    "print(noAid)\n",
    "friendTavern = template_finder(mainCity, FT)\n",
    "GB = template_finder(mainCity, GB)\n",
    "Motivated = template_finder(mainCity, MPed, threshold=0.5)\n",
    "Troops = template_finder(mainCity, barrack)\n",
    "\n",
    "cv2.imshow('Ready troops', Troops)\n",
    "cv2.waitKey()\n",
    "cv2.imshow('Aiding', toBeAided)\n",
    "cv2.waitKey()\n",
    "cv2.imshow('Friend Tavern', friendTavern)\n",
    "cv2.waitKey()\n",
    "cv2.imshow('Great Buildings', GB)\n",
    "cv2.waitKey()\n",
    "cv2.imshow('Motivated', Motivated)\n",
    "cv2.waitKey()\n",
    "\n",
    "cv2.destroyAllWindows()"
   ]
  }
 ],
 "metadata": {
  "kernelspec": {
   "display_name": "Python 3",
   "language": "python",
   "name": "python3"
  },
  "language_info": {
   "codemirror_mode": {
    "name": "ipython",
    "version": 3
   },
   "file_extension": ".py",
   "mimetype": "text/x-python",
   "name": "python",
   "nbconvert_exporter": "python",
   "pygments_lexer": "ipython3",
   "version": "3.7.0"
  }
 },
 "nbformat": 4,
 "nbformat_minor": 2
}
