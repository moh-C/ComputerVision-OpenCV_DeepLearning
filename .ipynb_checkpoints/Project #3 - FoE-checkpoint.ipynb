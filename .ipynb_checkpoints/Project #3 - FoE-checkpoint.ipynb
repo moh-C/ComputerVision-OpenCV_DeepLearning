{
 "cells": [
  {
   "cell_type": "code",
   "execution_count": null,
   "metadata": {},
   "outputs": [],
   "source": [
    "import cv2\n",
    "import pyautogui\n",
    "import numpy as np\n",
    "import keras\n",
    "from LinearClassifier import LinearClassifier\n",
    "import os\n",
    "from time import sleep"
   ]
  },
  {
   "cell_type": "markdown",
   "metadata": {},
   "source": [
    "# Loading Images"
   ]
  },
  {
   "cell_type": "code",
   "execution_count": null,
   "metadata": {},
   "outputs": [],
   "source": [
    "hoverTank_1 = cv2.imread('./MasterOpenCV/FoE/Army/HoverTank.png')\n",
    "Rogue = cv2.imread('./MasterOpenCV/FoE/Army/Rogue.png')\n",
    "\n",
    "LC = LinearClassifier(Rogue= Rogue, Hover= hoverTank_1)\n",
    "classifier = LC.train_classifier()"
   ]
  },
  {
   "cell_type": "markdown",
   "metadata": {},
   "source": [
    "# Class for army management"
   ]
  },
  {
   "cell_type": "code",
   "execution_count": null,
   "metadata": {},
   "outputs": [],
   "source": [
    "class units_management():\n",
    "    def __init__(self, unitID, unitLives, bounds):\n",
    "        self.unitID = unitID\n",
    "        self.unitLives = unitLives\n",
    "        self.needsReplacement = self.unitLives < 5\n",
    "        self.unitBounds = bounds\n",
    "    def __str__(self):\n",
    "        return f'{self.unitID} with {self.unitLives} lives and {self.needsReplacement} with {self.unitBounds}'"
   ]
  },
  {
   "cell_type": "code",
   "execution_count": null,
   "metadata": {},
   "outputs": [],
   "source": [
    "class army_management():\n",
    "    def __init__(self, armyManagement, model):\n",
    "        self.armyManagement = armyManagement\n",
    "        self.model = model\n",
    "        self.units = []\n",
    "        \n",
    "        self.alive_units = 0\n",
    "        self.needsReplacing = False\n",
    "        \n",
    "        self.processArmy()\n",
    "        \n",
    "    def lives_mask(self, frame):\n",
    "        hsv = cv2.cvtColor(frame, cv2.COLOR_BGR2HSV) \n",
    "        lowerBound = np.array([35, 90, 150])\n",
    "        upperBound = np.array([45, 210, 240])\n",
    "        mask = cv2.inRange(hsv, lowerBound, upperBound) \n",
    "        result = cv2.bitwise_and(frame, frame, mask = mask)\n",
    "        result = cv2.pyrUp(result)\n",
    "        result = cv2.pyrUp(result)\n",
    "        return result\n",
    "\n",
    "    def lives_count(self, image):\n",
    "        im = self.lives_mask(image)\n",
    "        edged = cv2.Canny(im, 50, 250)\n",
    "        _, contours, _ = cv2.findContours(edged, cv2.RETR_EXTERNAL, cv2.CHAIN_APPROX_SIMPLE)\n",
    "        return len(contours)\n",
    "    \n",
    "    def processArmy(self):\n",
    "        img = self.armyManagement[427:565, 633:890]\n",
    "        sizeX, sizeY = img.shape[1], img.shape[0]\n",
    "\n",
    "        nRows = 2\n",
    "        mCols = 4\n",
    "        \n",
    "        for j in range(0, mCols):\n",
    "            for i in range(0,nRows):\n",
    "                y_higher = i*int(sizeY/nRows)\n",
    "                y_lower = i*int(sizeY/nRows) + int(sizeY/nRows)\n",
    "                x_left = j*int(sizeX/mCols)\n",
    "                x_right = j*int(sizeX/mCols) + int(sizeX/mCols)\n",
    "                roi = img[y_higher: y_lower,\n",
    "                          x_left:x_right]\n",
    "                \n",
    "                lives_c = self.lives_count(roi)\n",
    "                if lives_c:\n",
    "                    self.alive_units += 1\n",
    "                    unitID = self.model.predict(self.preprocess_data(roi))\n",
    "                    bounds_ = (int((y_higher + y_lower)/2), int((x_left + x_right)/2))\n",
    "                    \n",
    "                    tempUnit = units_management(unitID= unitID,\n",
    "                                                unitLives=lives_c,\n",
    "                                                bounds=bounds_)\n",
    "                    self.units.append(tempUnit)\n",
    "                cv2.imwrite('./MasterOpenCV/FoE/Army/FoundUnits/patch_'+str(i)+str(j)+\".jpg\", roi)\n",
    "                \n",
    "        for unit in self.units:\n",
    "            if unit.needsReplacement:\n",
    "                self.needsReplacing = True\n",
    "    \n",
    "    def get_unit_count(self):\n",
    "        rogues, hovers = 0, 0\n",
    "        \n",
    "        for unit in self.units:\n",
    "            if unit.unitID == 1.0:\n",
    "                rogues += 1\n",
    "            else:\n",
    "                hovers += 1            \n",
    "        return rogues, hovers\n",
    "    \n",
    "    def preprocess_data(self, image):\n",
    "        image_toresize = image.copy()\n",
    "        height, width = image_toresize.shape[:2]\n",
    "        blank_image = np.zeros((80, 80, 3), np.uint8)\n",
    "        blank_image[:,:] = (255,255,255)\n",
    "        l_img = blank_image.copy()\n",
    "        x_offset = 40 - int(width/2)\n",
    "        y_offset = 40 - int(height/2)\n",
    "        l_img[y_offset:y_offset+height, x_offset:x_offset+width] = image_toresize.copy()\n",
    "        return np.array(l_img[np.newaxis, :, :, :])"
   ]
  },
  {
   "cell_type": "markdown",
   "metadata": {},
   "source": [
    "# Using the autodriver"
   ]
  },
  {
   "cell_type": "code",
   "execution_count": null,
   "metadata": {},
   "outputs": [],
   "source": [
    "def acquire_rogues(rogues):\n",
    "    for _ in range(rogues):\n",
    "        pyautogui.click(x=735, y=670)\n",
    "\n",
    "def acquire_hovers(hovers):\n",
    "    for _ in range(hovers):\n",
    "        pyautogui.click(x=735, y=670)\n",
    "\n",
    "def replace_units(army):\n",
    "    for unit_ in reversed(army.units):\n",
    "        if unit_.needsReplacement:\n",
    "            X, Y = 633+unit_.unitBounds[1], 427+unit_.unitBounds[0]\n",
    "            pyautogui.click(X, Y)\n",
    "            pyautogui.moveTo(1,1)\n",
    "            sleep(0.1)"
   ]
  },
  {
   "cell_type": "code",
   "execution_count": null,
   "metadata": {},
   "outputs": [],
   "source": [
    "def take_action(army):\n",
    "    needed_hovers, needed_rogues = 0, 0\n",
    "    if army.alive_units < 8:\n",
    "        hov, rog = army.get_unit_count()\n",
    "        needed_rogues = 6 - rog\n",
    "        needed_hovers = 2 - hov\n",
    "    \n",
    "    if needed_hovers:\n",
    "        pyautogui.click(x=810, y=610)\n",
    "        acquire_hovers(needed_hovers)\n",
    "        \n",
    "    if needed_rogues:\n",
    "        pyautogui.click(x=855, y=610)\n",
    "        pyautogui.click(x=955, y=793)\n",
    "        acquire_rogues(needed_rogues)\n",
    "    sleep(0.2)\n",
    "    pyautogui.click(x=910, y=820)\n",
    "    sleep(1)\n",
    "    print(\"-------------------\")"
   ]
  },
  {
   "cell_type": "code",
   "execution_count": null,
   "metadata": {},
   "outputs": [],
   "source": [
    "arm_man = cv2.imread('./MasterOpenCV/FoE/Army/Template.png')\n",
    "\n",
    "while(1):\n",
    "    pyautogui.screenshot('./MasterOpenCV/FoE/Army/my_screenshot.png')\n",
    "    im2 = cv2.imread('./MasterOpenCV/FoE/Army/my_screenshot.png')\n",
    "    \n",
    "    H_ = np.array(im2[250:285, 880:1080]) == np.array(arm_man)\n",
    "    if H_.any():\n",
    "        army = army_management(armyManagement=im2, model=classifier)\n",
    "        if army.needsReplacing:\n",
    "            replace_units(army)\n",
    "        elif army.alive_units:\n",
    "            take_action(army)\n",
    "    sleep(0.1)"
   ]
  },
  {
   "cell_type": "markdown",
   "metadata": {},
   "source": [
    "## Old Project"
   ]
  },
  {
   "cell_type": "code",
   "execution_count": null,
   "metadata": {
    "scrolled": true
   },
   "outputs": [],
   "source": [
    "mainCity = cv2.imread('./MasterOpenCV/FoE/Something.png')\n",
    "aiding = cv2.imread('./MasterOpenCV/FoE/Aid.png')\n",
    "FT = cv2.imread('./MasterOpenCV/FoE/FT.png')\n",
    "GB = cv2.imread('./MasterOpenCV/FoE/GB.png')\n",
    "MPed = cv2.imread('./MasterOpenCV/FoE/Motivated.png')\n",
    "barrack = cv2.imread('./MasterOpenCV/FoE/Barrack.png')\n",
    "\n",
    "(toBeAided, noAid) = template_finder(mainCity, aiding, count=True)\n",
    "print(noAid)\n",
    "friendTavern = template_finder(mainCity, FT)\n",
    "GB = template_finder(mainCity, GB)\n",
    "Motivated = template_finder(mainCity, MPed, threshold=0.5)\n",
    "Troops = template_finder(mainCity, barrack)\n",
    "\n",
    "cv2.imshow('Ready troops', Troops)\n",
    "cv2.waitKey()\n",
    "cv2.imshow('Aiding', toBeAided)\n",
    "cv2.waitKey()\n",
    "cv2.imshow('Friend Tavern', friendTavern)\n",
    "cv2.waitKey()\n",
    "cv2.imshow('Great Buildings', GB)\n",
    "cv2.waitKey()\n",
    "cv2.imshow('Motivated', Motivated)\n",
    "cv2.waitKey()\n",
    "\n",
    "cv2.destroyAllWindows()"
   ]
  }
 ],
 "metadata": {
  "kernelspec": {
   "display_name": "Python 3",
   "language": "python",
   "name": "python3"
  },
  "language_info": {
   "codemirror_mode": {
    "name": "ipython",
    "version": 3
   },
   "file_extension": ".py",
   "mimetype": "text/x-python",
   "name": "python",
   "nbconvert_exporter": "python",
   "pygments_lexer": "ipython3",
   "version": "3.7.0"
  }
 },
 "nbformat": 4,
 "nbformat_minor": 2
}
