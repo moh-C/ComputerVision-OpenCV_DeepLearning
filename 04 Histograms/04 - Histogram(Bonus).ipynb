{
 "cells": [
  {
   "cell_type": "code",
   "execution_count": 1,
   "metadata": {},
   "outputs": [],
   "source": [
    "import cv2\n",
    "import numpy as np\n",
    "import imutils\n",
    "import matplotlib.pyplot as plt"
   ]
  },
  {
   "cell_type": "code",
   "execution_count": 2,
   "metadata": {},
   "outputs": [],
   "source": [
    "def histogram_contours(img):\n",
    "    # hsv = cv2.cvtColor(img, cv2.COLOR_BGR2HSV)\n",
    "    hsv = cv2.cvtColor(img, cv2.COLOR_BGR2HSV)\n",
    "    hist = cv2.calcHist([hsv], [0, 1], None, [180, 256], [0, 180, 0, 256])\n",
    "\n",
    "    plt.imshow(hist, interpolation=\"nearest\")\n",
    "    plt.show()\n",
    "\n",
    "    # shape\n",
    "    lower = np.array([230, 230, 230])\n",
    "    upper = np.array([255, 255, 255])\n",
    "    shapeMask = cv2.inRange(img, lower, upper)\n",
    "\n",
    "    # find the contours in the mask\n",
    "    cnts = cv2.findContours(\n",
    "        shapeMask.copy(), cv2.RETR_EXTERNAL, cv2.CHAIN_APPROX_SIMPLE)\n",
    "    cnts = imutils.grab_contours(cnts)\n",
    "    print(\"I found {} white shapes\".format(len(cnts)))\n",
    "    cv2.imshow(\"Mask\", shapeMask)\n",
    "\n",
    "    # loop over the contours\n",
    "    for c in cnts:\n",
    "        # draw the contour and show it\n",
    "        cv2.drawContours(img, [c], -1, (0, 255, 0), 2)\n",
    "        cv2.imshow(\"Image\", img)\n",
    "        cv2.waitKey(0) "
   ]
  },
  {
   "cell_type": "code",
   "execution_count": 3,
   "metadata": {},
   "outputs": [
    {
     "data": {
      "image/png": "[encoded data removed]",
      "text/plain": [
       "<Figure size 432x288 with 1 Axes>"
      ]
     },
     "metadata": {
      "needs_background": "light"
     },
     "output_type": "display_data"
    },
    {
     "name": "stdout",
     "output_type": "stream",
     "text": [
      "I found 32 white shapes\n"
     ]
    }
   ],
   "source": [
    "image = cv2.imread('./MasterOpenCV/Images/chess.jpg')\n",
    "histogram_contours(image)"
   ]
  }
 ],
 "metadata": {
  "kernelspec": {
   "display_name": "Python 3",
   "language": "python",
   "name": "python3"
  },
  "language_info": {
   "codemirror_mode": {
    "name": "ipython",
    "version": 3
   },
   "file_extension": ".py",
   "mimetype": "text/x-python",
   "name": "python",
   "nbconvert_exporter": "python",
   "pygments_lexer": "ipython3",
   "version": "3.7.3"
  }
 },
 "nbformat": 4,
 "nbformat_minor": 2
}
