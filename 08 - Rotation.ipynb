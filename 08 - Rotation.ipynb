{
 "cells": [
  {
   "cell_type": "code",
   "execution_count": 1,
   "metadata": {},
   "outputs": [],
   "source": [
    "import cv2\n",
    "import numpy as np"
   ]
  },
  {
   "cell_type": "code",
   "execution_count": 8,
   "metadata": {},
   "outputs": [],
   "source": [
    "image = cv2.imread('./MasterOpenCV/images/input.jpg')"
   ]
  },
  {
   "cell_type": "markdown",
   "metadata": {},
   "source": [
    "# Rotation with cv2.getRotationMatrix2D"
   ]
  },
  {
   "cell_type": "code",
   "execution_count": 22,
   "metadata": {},
   "outputs": [],
   "source": [
    "height, width = image.shape[:2]\n",
    "\n",
    "angle = 90\n",
    "scale = 0.75\n",
    "\n",
    "rotMatrix = cv2.getRotationMatrix2D((width/2, height/2), angle, scale)\n",
    "rotated = cv2.warpAffine(image, rotMatrix, (width, height))\n",
    "cv2.imshow('Rotated', rotated)\n",
    "cv2.waitKey()\n",
    "cv2.destroyAllWindows()"
   ]
  },
  {
   "cell_type": "markdown",
   "metadata": {},
   "source": [
    "# Transposing"
   ]
  },
  {
   "cell_type": "code",
   "execution_count": 23,
   "metadata": {},
   "outputs": [],
   "source": [
    "transposed = cv2.transpose(image)\n",
    "cv2.imshow('Transposed', transposed)\n",
    "cv2.waitKey()\n",
    "cv2.destroyAllWindows()"
   ]
  },
  {
   "cell_type": "code",
   "execution_count": 29,
   "metadata": {},
   "outputs": [
    {
     "name": "stdout",
     "output_type": "stream",
     "text": [
      "[[ 0.77942286  0.45        0.        ]\n",
      " [-0.45        0.77942286  0.        ]]\n",
      "[[ 0.8660254  0.5        0.       ]\n",
      " [-0.5        0.8660254  0.       ]]\n"
     ]
    }
   ],
   "source": [
    "rotMatrix = cv2.getRotationMatrix2D((0, 0), 30, 0.9)\n",
    "print(rotMatrix)\n",
    "rotMatrix2 = cv2.getRotationMatrix2D((0, 0), 30, 1)\n",
    "print(rotMatrix2)"
   ]
  },
  {
   "cell_type": "markdown",
   "metadata": {},
   "source": [
    "\n",
    "\n",
    "# https://en.wikipedia.org/wiki/Transformation_matrix\n",
    "\n"
   ]
  },
  {
   "cell_type": "code",
   "execution_count": null,
   "metadata": {},
   "outputs": [],
   "source": []
  },
  {
   "cell_type": "markdown",
   "metadata": {},
   "source": [
    "## A little Pet Project for deeper understanding of the underlying math"
   ]
  },
  {
   "cell_type": "code",
   "execution_count": 71,
   "metadata": {},
   "outputs": [],
   "source": [
    "small_image = image[400:425,500:525]\n",
    "factor = 0.2\n",
    "mat = np.float32([[factor,0,0],[0,factor,0]])\n",
    "new_image = cv2.warpAffine(small_image, mat, (small_image.shape[1], small_image.shape[0]))"
   ]
  },
  {
   "cell_type": "code",
   "execution_count": 72,
   "metadata": {},
   "outputs": [
    {
     "name": "stdout",
     "output_type": "stream",
     "text": [
      "[[221 251 255]\n",
      " [137 168 191]\n",
      " [ 47  80 106]\n",
      " [ 28  57  88]\n",
      " [ 23  46  78]\n",
      " [ 30  51  83]\n",
      " [ 51  72 104]\n",
      " [135 157 192]\n",
      " [105 125 166]\n",
      " [ 49  75 112]\n",
      " [134 168 198]\n",
      " [ 96 131 157]\n",
      " [ 26  57  82]\n",
      " [ 27  57  82]\n",
      " [  4  31  58]\n",
      " [ 21  48  75]\n",
      " [ 59  88 115]\n",
      " [ 57  84 111]\n",
      " [ 28  49  76]\n",
      " [ 28  47  74]\n",
      " [ 35  57  82]\n",
      " [ 58  79 101]\n",
      " [ 15  31  54]\n",
      " [ 13  31  54]\n",
      " [ 39  60  87]]\n",
      "\n",
      "[[221 251 255]\n",
      " [ 30  51  83]\n",
      " [134 168 198]\n",
      " [ 21  48  75]\n",
      " [ 35  57  82]\n",
      " [  0   0   0]\n",
      " [  0   0   0]\n",
      " [  0   0   0]\n",
      " [  0   0   0]\n",
      " [  0   0   0]\n",
      " [  0   0   0]\n",
      " [  0   0   0]\n",
      " [  0   0   0]\n",
      " [  0   0   0]\n",
      " [  0   0   0]\n",
      " [  0   0   0]\n",
      " [  0   0   0]\n",
      " [  0   0   0]\n",
      " [  0   0   0]\n",
      " [  0   0   0]\n",
      " [  0   0   0]\n",
      " [  0   0   0]\n",
      " [  0   0   0]\n",
      " [  0   0   0]\n",
      " [  0   0   0]]\n"
     ]
    }
   ],
   "source": [
    "print(small_image[0])\n",
    "print()\n",
    "print(new_image[0])"
   ]
  }
 ],
 "metadata": {
  "kernelspec": {
   "display_name": "Python 3",
   "language": "python",
   "name": "python3"
  },
  "language_info": {
   "codemirror_mode": {
    "name": "ipython",
    "version": 3
   },
   "file_extension": ".py",
   "mimetype": "text/x-python",
   "name": "python",
   "nbconvert_exporter": "python",
   "pygments_lexer": "ipython3",
   "version": "3.7.3"
  }
 },
 "nbformat": 4,
 "nbformat_minor": 2
}
