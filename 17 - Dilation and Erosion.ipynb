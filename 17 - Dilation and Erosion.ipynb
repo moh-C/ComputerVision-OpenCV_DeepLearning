{
 "cells": [
  {
   "cell_type": "code",
   "execution_count": 1,
   "metadata": {},
   "outputs": [],
   "source": [
    "import cv2\n",
    "import numpy as np"
   ]
  },
  {
   "cell_type": "code",
   "execution_count": 4,
   "metadata": {},
   "outputs": [],
   "source": [
    "image = cv2.imread('./MasterOpenCV/images/opencv_inv.png', 0)\n",
    "cv2.imshow('Original', image)\n",
    "\n",
    "kernel = np.ones((5,5), np.uint8)\n",
    "\n",
    "erosion = cv2.erode(image, kernel)\n",
    "dilation = cv2.dilate(image, kernel)\n",
    "cv2.imshow('Dilation', dilation)\n",
    "cv2.imshow('Erosion', erosion)\n",
    "\n",
    "Erosion_dilated = cv2.erode(dilation, kernel)\n",
    "dilation_erosion = cv2.dilate(erosion, kernel)\n",
    "\n",
    "cv2.imshow('Erosion after Dilation', Erosion_dilated)\n",
    "cv2.imshow('Dilation after Erosion', dilation_erosion)\n",
    "\n",
    "cv2.waitKey()\n",
    "\n",
    "cv2.destroyAllWindows()"
   ]
  },
  {
   "cell_type": "markdown",
   "metadata": {},
   "source": [
    "# We have the comparison here!"
   ]
  },
  {
   "cell_type": "code",
   "execution_count": null,
   "metadata": {},
   "outputs": [],
   "source": [
    "subtraction = np.subtract(Erosion_dilated, image)\n",
    "cv2.imshow('subtraction', subtraction)\n",
    "\n",
    "imageBRG = cv2.cvtColor(image, cv2.COLOR_GRAY2BGR)\n",
    "imageBRG[:,:,2] += subtraction*255\n",
    "cv2.imshow('imageBRG', imageBRG)\n",
    "cv2.waitKey()\n",
    "cv2.destroyAllWindows()"
   ]
  }
 ],
 "metadata": {
  "kernelspec": {
   "display_name": "Python 3",
   "language": "python",
   "name": "python3"
  },
  "language_info": {
   "codemirror_mode": {
    "name": "ipython",
    "version": 3
   },
   "file_extension": ".py",
   "mimetype": "text/x-python",
   "name": "python",
   "nbconvert_exporter": "python",
   "pygments_lexer": "ipython3",
   "version": "3.7.3"
  }
 },
 "nbformat": 4,
 "nbformat_minor": 2
}
