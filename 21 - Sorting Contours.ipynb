{
 "cells": [
  {
   "cell_type": "code",
   "execution_count": 29,
   "metadata": {},
   "outputs": [],
   "source": [
    "import cv2\n",
    "import numpy as np\n",
    "import random"
   ]
  },
  {
   "cell_type": "markdown",
   "metadata": {},
   "source": [
    "### Loading The Image"
   ]
  },
  {
   "cell_type": "code",
   "execution_count": 78,
   "metadata": {},
   "outputs": [],
   "source": [
    "image = cv2.imread('./MasterOpenCV/images/kim.jpg')\n",
    "cv2.imshow('0 - Original Image', image)\n",
    "cv2.waitKey(0)\n",
    "cv2.destroyAllWindows()"
   ]
  },
  {
   "cell_type": "markdown",
   "metadata": {},
   "source": [
    "### Detecting Edges"
   ]
  },
  {
   "cell_type": "code",
   "execution_count": 81,
   "metadata": {},
   "outputs": [],
   "source": [
    "original_image = image.copy()\n",
    "gray_img = cv2.cvtColor(original_image, cv2.COLOR_BGR2GRAY)\n",
    "edged = cv2.Canny(gray_img, 185, 255)\n",
    "cv2.imshow('Edged ', edged)\n",
    "cv2.waitKey()\n",
    "cv2.destroyAllWindows()"
   ]
  },
  {
   "cell_type": "markdown",
   "metadata": {},
   "source": [
    "### Drawing contours on a blank image"
   ]
  },
  {
   "cell_type": "code",
   "execution_count": 82,
   "metadata": {},
   "outputs": [],
   "source": [
    "blank_image = np.zeros(image.shape)\n",
    "contours, _ = cv2.findContours(edged.copy(), cv2.RETR_EXTERNAL, cv2.CHAIN_APPROX_NONE)\n",
    "cv2.drawContours(blank_image, contours, -1, (0,0,255), 2)\n",
    "cv2.imshow('Blank Image ', blank_image)\n",
    "cv2.waitKey()\n",
    "cv2.destroyAllWindows()"
   ]
  },
  {
   "cell_type": "markdown",
   "metadata": {},
   "source": [
    "### Drawing images on the original ones"
   ]
  },
  {
   "cell_type": "code",
   "execution_count": 83,
   "metadata": {},
   "outputs": [],
   "source": [
    "cv2.drawContours(original_image, contours, -1, (random.randint(0,255), random.randint(0,255), random.randint(0,255)), 2)\n",
    "cv2.imshow('Blank Image ', original_image)\n",
    "cv2.waitKey()\n",
    "cv2.destroyAllWindows()"
   ]
  },
  {
   "cell_type": "markdown",
   "metadata": {},
   "source": [
    "### Computing and sorting by the areas"
   ]
  },
  {
   "cell_type": "code",
   "execution_count": 84,
   "metadata": {},
   "outputs": [
    {
     "name": "stdout",
     "output_type": "stream",
     "text": [
      "[1.5, 42.5, 0.0, 2.0, 0.0, 1.0, 36.5, 0.0, 0.0, 0.0, 0.0, 0.0, 0.0, 0.0, 2.0, 0.0, 10.5, 0.0, 0.5, 0.5, 0.0, 0.0, 1.0, 2.0, 0.0, 0.0, 1.0, 0.0, 1.5, 2.0, 12.0, 1.0, 0.0, 0.0, 1.5, 0.0, 3.5, 28.5, 0.0, 10.5, 0.0, 0.0, 0.0, 0.0, 0.0, 2.5, 0.0, 5.5, 51.5, 0.5, 1.5, 1.5, 0.0, 0.0, 0.0, 4.0, 6.0, 0.0, 11.0, 14.0, 1.0, 0.0, 0.0, 1.0, 0.5, 0.0, 1.0, 1.0, 3.0, 1.5, 2.0, 0.0, 0.0, 0.5, 0.0, 1.0, 0.0, 4.0, 0.5, 1.0, 1.0, 0.0, 1.0, 0.5, 0.0, 0.0, 1.0, 0.0, 0.5, 1.0, 0.0, 0.0, 0.0, 31.5, 115.0]\n",
      "[115.0, 51.5, 42.5, 36.5, 31.5, 28.5, 14.0, 12.0, 11.0, 10.5, 10.5, 6.0, 5.5, 4.0, 4.0, 3.5, 3.0, 2.5, 2.0, 2.0, 2.0, 2.0, 2.0, 1.5, 1.5, 1.5, 1.5, 1.5, 1.5, 1.0, 1.0, 1.0, 1.0, 1.0, 1.0, 1.0, 1.0, 1.0, 1.0, 1.0, 1.0, 1.0, 1.0, 0.5, 0.5, 0.5, 0.5, 0.5, 0.5, 0.5, 0.5, 0.0, 0.0, 0.0, 0.0, 0.0, 0.0, 0.0, 0.0, 0.0, 0.0, 0.0, 0.0, 0.0, 0.0, 0.0, 0.0, 0.0, 0.0, 0.0, 0.0, 0.0, 0.0, 0.0, 0.0, 0.0, 0.0, 0.0, 0.0, 0.0, 0.0, 0.0, 0.0, 0.0, 0.0, 0.0, 0.0, 0.0, 0.0, 0.0, 0.0, 0.0, 0.0, 0.0, 0.0]\n"
     ]
    }
   ],
   "source": [
    "all_areas = [cv2.contourArea(cnt) for cnt in contours]\n",
    "sorted_areas = sorted(contours, key=cv2.contourArea ,reverse=True)\n",
    "print(all_areas)\n",
    "print([cv2.contourArea(cnt) for cnt in sorted_areas])\n",
    "\n",
    "print([cv2.contourArea(cnt) for cnt in sorted_areas])"
   ]
  },
  {
   "cell_type": "code",
   "execution_count": 86,
   "metadata": {},
   "outputs": [],
   "source": [
    "original_image = image.copy()\n",
    "# color = (random.randint(0,255), random.randint(0,255), random.randint(0,255))\n",
    "for cnt in sorted_areas:\n",
    "    if cv2.contourArea(cnt) > 20:\n",
    "        cv2.drawContours(original_image, [cnt], -1, (0,0,0), 2)\n",
    "        cv2.imshow('Original Image', original_image)\n",
    "        cv2.waitKey()\n",
    "\n",
    "cv2.destroyAllWindows()"
   ]
  },
  {
   "cell_type": "markdown",
   "metadata": {},
   "source": [
    "### Drawing Circles in the center of moment!"
   ]
  },
  {
   "cell_type": "code",
   "execution_count": 76,
   "metadata": {},
   "outputs": [],
   "source": [
    "def draw_circle(image, cnt):\n",
    "    M = cv2.moments(cnt)\n",
    "    if M[\"m00\"] == 0:\n",
    "        raise ZeroDivisionError\n",
    "    Cx = int(M[\"m10\"]/M[\"m00\"])\n",
    "    Cy = int(M[\"m01\"]/M[\"m00\"])\n",
    "    color = (random.randint(0,255), random.randint(0,255), random.randint(0,255))\n",
    "    cv2.circle(image, (Cx, Cy), 10, color, 2)\n",
    "    cv2.imshow('original_image', original_image)\n",
    "    cv2.waitKey()"
   ]
  },
  {
   "cell_type": "code",
   "execution_count": 77,
   "metadata": {},
   "outputs": [],
   "source": [
    "original_image = image.copy()\n",
    "for cnt in sorted_areas:\n",
    "    draw_circle(original_image, cnt)\n",
    "\n",
    "cv2.destroyAllWindows()"
   ]
  },
  {
   "cell_type": "code",
   "execution_count": null,
   "metadata": {},
   "outputs": [],
   "source": []
  },
  {
   "cell_type": "code",
   "execution_count": null,
   "metadata": {},
   "outputs": [],
   "source": []
  },
  {
   "cell_type": "code",
   "execution_count": null,
   "metadata": {},
   "outputs": [],
   "source": []
  },
  {
   "cell_type": "code",
   "execution_count": null,
   "metadata": {},
   "outputs": [],
   "source": []
  },
  {
   "cell_type": "code",
   "execution_count": null,
   "metadata": {},
   "outputs": [],
   "source": []
  }
 ],
 "metadata": {
  "kernelspec": {
   "display_name": "Python 3",
   "language": "python",
   "name": "python3"
  },
  "language_info": {
   "codemirror_mode": {
    "name": "ipython",
    "version": 3
   },
   "file_extension": ".py",
   "mimetype": "text/x-python",
   "name": "python",
   "nbconvert_exporter": "python",
   "pygments_lexer": "ipython3",
   "version": "3.7.3"
  }
 },
 "nbformat": 4,
 "nbformat_minor": 2
}
