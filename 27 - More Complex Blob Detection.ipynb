{
 "cells": [
  {
   "cell_type": "code",
   "execution_count": 1,
   "metadata": {},
   "outputs": [],
   "source": [
    "import cv2\n",
    "import numpy as np\n",
    "import random"
   ]
  },
  {
   "cell_type": "code",
   "execution_count": 2,
   "metadata": {},
   "outputs": [],
   "source": [
    "image = cv2.imread('./MasterOpenCV/images/blobs.jpg')"
   ]
  },
  {
   "cell_type": "code",
   "execution_count": 3,
   "metadata": {},
   "outputs": [],
   "source": [
    "def blob_detector(image, filterInertia=False, minInertia=0, maxInertia=1):\n",
    "    params = cv2.SimpleBlobDetector_Params()\n",
    "    \n",
    "    params.filterByInertia = filterInertia\n",
    "    params.minInertiaRatio = minInertia\n",
    "    params.maxInertiaRatio = maxInertia\n",
    "    \n",
    "    if filterInertia:\n",
    "        detector = cv2.SimpleBlobDetector_create(params)\n",
    "    else:\n",
    "        detector = cv2.SimpleBlobDetector_create()\n",
    "    \n",
    "    keypoints = detector.detect(image.copy())\n",
    "    output, bl = np.zeros(image.shape), np.zeros((1,1))\n",
    "    color = (random.randint(0,255), random.randint(0,255), random.randint(0,255))\n",
    "    output = cv2.drawKeypoints(image.copy(), keypoints, bl, color)\n",
    "    \n",
    "    return output"
   ]
  },
  {
   "cell_type": "markdown",
   "metadata": {},
   "source": [
    "## Detecting using the function and parameteres!"
   ]
  },
  {
   "cell_type": "code",
   "execution_count": 4,
   "metadata": {},
   "outputs": [],
   "source": [
    "all_keypnts = blob_detector(image)\n",
    "circles = blob_detector(image, filterInertia=True, minInertia=0.6)\n",
    "ellipses = blob_detector(image, filterInertia=True, minInertia=0, maxInertia=0.6)\n",
    "cv2.imshow('All of them', all_keypnts)\n",
    "cv2.imshow('Circles', circles)\n",
    "cv2.imshow('Ellipses', ellipses)\n",
    "cv2.waitKey()\n",
    "cv2.destroyAllWindows()"
   ]
  }
 ],
 "metadata": {
  "kernelspec": {
   "display_name": "Python 3",
   "language": "python",
   "name": "python3"
  },
  "language_info": {
   "codemirror_mode": {
    "name": "ipython",
    "version": 3
   },
   "file_extension": ".py",
   "mimetype": "text/x-python",
   "name": "python",
   "nbconvert_exporter": "python",
   "pygments_lexer": "ipython3",
   "version": "3.7.3"
  }
 },
 "nbformat": 4,
 "nbformat_minor": 2
}
