{
 "cells": [
  {
   "cell_type": "code",
   "execution_count": 1,
   "metadata": {},
   "outputs": [],
   "source": [
    "import cv2\n",
    "import numpy as np"
   ]
  },
  {
   "cell_type": "markdown",
   "metadata": {},
   "source": [
    "## Harris Corner Detection"
   ]
  },
  {
   "cell_type": "code",
   "execution_count": 2,
   "metadata": {},
   "outputs": [],
   "source": [
    "image = cv2.imread('./MasterOpenCV/images/chess.JPG')\n",
    "gray = np.float32(cv2.cvtColor(image,cv2.COLOR_BGR2GRAY))\n",
    "harris_corners = cv2.cornerHarris(gray, 3, 3, 0.04)\n",
    "kernel = np.ones((5,5), dtype=np.uint8)\n",
    "harris_corners = cv2.dilate(harris_corners, kernel)\n",
    "image[harris_corners > 0.025 * harris_corners.max()] = [255, 127, 127]\n",
    "cv2.imshow('Harris Corners', image)\n",
    "cv2.waitKey()\n",
    "cv2.destroyAllWindows()"
   ]
  },
  {
   "cell_type": "markdown",
   "metadata": {},
   "source": [
    "##  Good Features"
   ]
  },
  {
   "cell_type": "code",
   "execution_count": 9,
   "metadata": {},
   "outputs": [],
   "source": [
    "img = cv2.imread('./MasterOpenCV/images/chess.JPG')\n",
    "gry = cv2.cvtColor(cv2.blur(img, (3,3)), cv2.COLOR_BGR2GRAY)\n",
    "corners = cv2.goodFeaturesToTrack(gry, 100, 0.01, 10)\n",
    "\n",
    "for c in corners:\n",
    "    x, y = int(c[0][0]), int(c[0][1])\n",
    "    cv2.circle(img, (x,y), 5, (0,0,255), 3)\n",
    "\n",
    "cv2.imshow('good features', img)\n",
    "cv2.waitKey()\n",
    "cv2.destroyAllWindows()"
   ]
  }
 ],
 "metadata": {
  "kernelspec": {
   "display_name": "Python 3",
   "language": "python",
   "name": "python3"
  },
  "language_info": {
   "codemirror_mode": {
    "name": "ipython",
    "version": 3
   },
   "file_extension": ".py",
   "mimetype": "text/x-python",
   "name": "python",
   "nbconvert_exporter": "python",
   "pygments_lexer": "ipython3",
   "version": "3.7.3"
  }
 },
 "nbformat": 4,
 "nbformat_minor": 2
}
