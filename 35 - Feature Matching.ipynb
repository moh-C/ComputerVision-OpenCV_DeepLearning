{
 "cells": [
  {
   "cell_type": "code",
   "execution_count": 1,
   "metadata": {},
   "outputs": [],
   "source": [
    "import cv2\n",
    "import numpy as np"
   ]
  },
  {
   "cell_type": "code",
   "execution_count": 38,
   "metadata": {},
   "outputs": [],
   "source": [
    "image = cv2.imread('./MasterOpenCV/feature/0.jpg')"
   ]
  },
  {
   "cell_type": "code",
   "execution_count": 43,
   "metadata": {},
   "outputs": [],
   "source": [
    "def gray(image):\n",
    "    if image.shape[2] == 3:\n",
    "        return cv2.cvtColor(image.copy(), cv2.COLOR_BGR2GRAY)\n",
    "    return image\n",
    "\n",
    "def canny(image, min_Value=20, max_Value=200):\n",
    "    gry = gray(image)\n",
    "    return cv2.Canny(gry, min_Value, max_Value)\n",
    "\n",
    "def otsu_(image):\n",
    "    img = gray(image.copy())\n",
    "    blur = cv2.GaussianBlur(img, (5,5), 2)\n",
    "    _, th = cv2.threshold(blur, 0, 250, cv2.THRESH_OTSU)\n",
    "    return th\n",
    "\n",
    "def laplacian(image):\n",
    "    return cv2.Laplacian(gray(image), cv2.CV_64F)\n",
    "    \n",
    "def sobel(image):\n",
    "    return cv2.Sobel(gray(image), cv2.CV_64F, 1, 1, ksize=3)\n",
    "    \n",
    "def contours(image, method=1):\n",
    "    edge = None\n",
    "    if method==1:\n",
    "        edge = canny(image)\n",
    "    elif method==2:\n",
    "        edge = laplacian(image)\n",
    "    elif method==3:\n",
    "        edge = sobel(image)\n",
    "    else:\n",
    "        edge = gray(image)\n",
    "    \n",
    "    _, contours, _ = cv2.findContours(edge.copy(), cv2.RETR_EXTERNAL, cv2.CHAIN_APPROX_SIMPLE)\n",
    "    return contours\n",
    "\n",
    "def drawContours(image, contour):\n",
    "    copy = np.zeros(image.shape, dtype=np.uint8)\n",
    "    return cv2.drawContours(copy, countours, -1, (0,255,0), 3)\n",
    "\n",
    "def apply_kernel(image):\n",
    "    kernel = np.float32([[0,-1,0],\n",
    "                         [-1,4,-1],\n",
    "                         [0,-1,0]], dtype=np.uint8)\n",
    "    gry = gray(cv2.GaussianBlur(image, (7,7), 2))\n",
    "    return cv2.filter2D(gry, -1, kernel)\n",
    "    \n",
    "def show(image):\n",
    "    cv2.imshow('Image', image)\n",
    "    cv2.waitKey()\n",
    "    cv2.destroyAllWindows()"
   ]
  },
  {
   "cell_type": "code",
   "execution_count": 42,
   "metadata": {},
   "outputs": [
    {
     "data": {
      "text/plain": [
       "True"
      ]
     },
     "execution_count": 42,
     "metadata": {},
     "output_type": "execute_result"
    }
   ],
   "source": [
    "image.shape[2] == 3"
   ]
  },
  {
   "cell_type": "code",
   "execution_count": 8,
   "metadata": {},
   "outputs": [],
   "source": [
    "image_ = image.copy()\n",
    "edge = canny(image_)\n",
    "lines = cv2.HoughLinesP(edge.copy(), 1, np.pi/180, 200)\n",
    "for line_ in lines:\n",
    "    x1, y1, x2, y2 = line_[0][0], line_[0][1], line_[0][2], line_[0][3]\n",
    "    cv2.line(image_, (x1, y1), (x2, y2),(0, 255, 0), 3)\n",
    "cv2.imshow('Probabilistic Hough Lines', image_)\n",
    "cv2.waitKey(0)\n",
    "cv2.destroyAllWindows()"
   ]
  },
  {
   "cell_type": "code",
   "execution_count": 51,
   "metadata": {},
   "outputs": [],
   "source": [
    "image_ = image.copy()\n",
    "otsu = otsu_(image_)\n",
    "otsu = cv2.cvtColor(otsu, cv2.COLOR_GRAY2BGR)\n",
    "edge = canny(otsu)\n",
    "lines = cv2.HoughLines(edge, 1, np.pi/180, 140)\n",
    "for line_ in lines:\n",
    "    rho = line_[0][0]\n",
    "    theta = line_[0][1]\n",
    "    a = np.cos(theta)\n",
    "    b = np.sin(theta)\n",
    "    x0 = a * rho\n",
    "    y0 = b * rho\n",
    "    x1 = int(x0 + 1000 * (-b))\n",
    "    y1 = int(y0 + 1000 * (a))\n",
    "    x2 = int(x0 - 1000 * (-b))\n",
    "    y2 = int(y0 - 1000 * (a))\n",
    "    cv2.line(image_, (x1, y1), (x2, y2), (255, 0, 0), 2)\n",
    "\n",
    "show(image_)"
   ]
  },
  {
   "cell_type": "code",
   "execution_count": null,
   "metadata": {},
   "outputs": [],
   "source": []
  }
 ],
 "metadata": {
  "kernelspec": {
   "display_name": "Python 3",
   "language": "python",
   "name": "python3"
  },
  "language_info": {
   "codemirror_mode": {
    "name": "ipython",
    "version": 3
   },
   "file_extension": ".py",
   "mimetype": "text/x-python",
   "name": "python",
   "nbconvert_exporter": "python",
   "pygments_lexer": "ipython3",
   "version": "3.7.3"
  }
 },
 "nbformat": 4,
 "nbformat_minor": 2
}
