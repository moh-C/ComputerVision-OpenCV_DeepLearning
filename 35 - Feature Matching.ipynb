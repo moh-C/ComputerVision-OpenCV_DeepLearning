{
 "cells": [
  {
   "cell_type": "code",
   "execution_count": 1,
   "metadata": {},
   "outputs": [],
   "source": [
    "import cv2\n",
    "import numpy as np"
   ]
  },
  {
   "cell_type": "code",
   "execution_count": null,
   "metadata": {},
   "outputs": [],
   "source": [
    "image = cv2.imread('./MasterOpenCV/feature/0.jpg')"
   ]
  },
  {
   "cell_type": "code",
   "execution_count": 129,
   "metadata": {},
   "outputs": [],
   "source": [
    "def gray(image):\n",
    "    return cv2.cvtColor(image.copy(), cv2.COLOR_BGR2GRAY)\n",
    "\n",
    "def canny(image, min_Value=20, max_Value=200):\n",
    "    gry = gray(image)\n",
    "    return cv2.Canny(gry, min_Value, max_Value)\n",
    "\n",
    "def otsu_(image):\n",
    "    img = gray(image.copy())\n",
    "    blur = cv2.GaussianBlur(img, (5,5), 2)\n",
    "    _, th = cv2.threshold(blur, 0, 255, cv2.THRESH_OTSU)\n",
    "    return th\n",
    "\n",
    "def laplacian(image):\n",
    "    return cv2.Laplacian(gray(image), cv2.CV_64F)\n",
    "    \n",
    "def sobel(image):\n",
    "    return cv2.Sobel(gray(image), cv2.CV_64F, 1, 1, ksize=3)\n",
    "    \n",
    "def contours(image, method=1):\n",
    "    edge = None\n",
    "    if method==1:\n",
    "        edge = canny(image)\n",
    "    elif method==2:\n",
    "        edge = laplacian(image)\n",
    "    elif method==3:\n",
    "        edge = sobel(image)\n",
    "    else:\n",
    "        edge = image.copy()\n",
    "    _, contours, __ = cv2.findContours(edge.copy(), cv2.RETR_EXTERNAL, cv2.CHAIN_APPROX_NONE)\n",
    "    return contours\n",
    "\n",
    "def drawContours(image, contour):\n",
    "    blank = image.copy()*0\n",
    "    return cv2.drawContours(blank, contour[0], -1, (0,0,255))\n",
    "\n",
    "def apply_kernel(image, kernel):\n",
    "    kernel = np.float32([kernel], dtype=np.uint8)\n",
    "    cv2.filter2D\n",
    "    \n",
    "def show(image):\n",
    "    cv2.imshow('Image', image)\n",
    "    cv2.waitKey()\n",
    "    cv2.destroyAllWindows()"
   ]
  },
  {
   "cell_type": "code",
   "execution_count": 145,
   "metadata": {},
   "outputs": [
    {
     "data": {
      "text/plain": [
       "112"
      ]
     },
     "execution_count": 145,
     "metadata": {},
     "output_type": "execute_result"
    }
   ],
   "source": [
    "_, countours, _ = cv2.findContours(otsu_(image),cv2.RETR_TREE,cv2.CHAIN_APPROX_SIMPLE)\n",
    "len(countours)"
   ]
  },
  {
   "cell_type": "code",
   "execution_count": null,
   "metadata": {},
   "outputs": [],
   "source": []
  },
  {
   "cell_type": "code",
   "execution_count": null,
   "metadata": {},
   "outputs": [],
   "source": [
    "lines = cv2.HoughLines(image.copy(), 5, 1, 5)\n",
    "cv2.line()"
   ]
  },
  {
   "cell_type": "code",
   "execution_count": null,
   "metadata": {},
   "outputs": [],
   "source": []
  },
  {
   "cell_type": "code",
   "execution_count": 142,
   "metadata": {},
   "outputs": [],
   "source": [
    "copy = np.zeros(image.shape, dtype=np.uint8)\n",
    "show(cv2.drawContours(copy, countours, -1, (0,255,0), 3))"
   ]
  },
  {
   "cell_type": "code",
   "execution_count": 37,
   "metadata": {},
   "outputs": [],
   "source": [
    "blank_image = original_image.copy()*0\n",
    "_, contours, hierarchy = cv2.findContours(edged.copy(), cv2.RETR_EXTERNAL, cv2.CHAIN_APPROX_NONE)\n",
    "cv2.drawContours(blank_image, contours, -1, (0,0,255), 2)\n",
    "cv2.imshow('Blank', blank_image)\n",
    "cv2.imshow('Original', image)\n",
    "cv2.waitKey()\n",
    "cv2.destroyAllWindows()"
   ]
  },
  {
   "cell_type": "code",
   "execution_count": 47,
   "metadata": {},
   "outputs": [],
   "source": [
    "kernel = np.float32([[0,-1,0],\n",
    "           [-1,4,-1],\n",
    "           [0,-1,0]], dtype=np.uint8)\n",
    "gray_img = cv2.cvtColor(cv2.GaussianBlur(image, (7,7), 4), cv2.COLOR_BGR2GRAY)\n",
    "convolved = cv2.filter2D(gray_img, -1, kernel)\n",
    "cv2.imshow('Convolved', 25*convolved)\n",
    "cv2.waitKey()\n",
    "cv2.destroyAllWindows()"
   ]
  },
  {
   "cell_type": "code",
   "execution_count": 46,
   "metadata": {},
   "outputs": [],
   "source": [
    "# cv2.adaptiveThreshold(convolved, 200, )\n",
    "thresh = cv2.adaptiveThreshold(convolved, 255, cv2.ADAPTIVE_THRESH_MEAN_C, cv2.THRESH_BINARY, 3, 5) \n",
    "cv2.imshow('Thresh', thresh)\n",
    "cv2.waitKey()\n",
    "cv2.destroyAllWindows()"
   ]
  },
  {
   "cell_type": "code",
   "execution_count": 49,
   "metadata": {},
   "outputs": [],
   "source": [
    "blank_image = image.copy()*0\n",
    "_, contours, hierarchy = cv2.findContours(convolved.copy(), cv2.RETR_LIST, cv2.CHAIN_APPROX_NONE)\n",
    "cv2.drawContours(blank_image, contours, -1, (0,0,255), 2)\n",
    "cv2.imshow('Blank', blank_image)\n",
    "cv2.imshow('Original', image)\n",
    "cv2.waitKey()\n",
    "cv2.destroyAllWindows()"
   ]
  },
  {
   "cell_type": "code",
   "execution_count": 50,
   "metadata": {},
   "outputs": [],
   "source": [
    "thresh = cv2.adaptiveThreshold(convolved, 255, cv2.ADAPTIVE_THRESH_MEAN_C, cv2.THRESH_BINARY, 3, 5) \n",
    "cv2.imshow('Gray', gray_img)\n",
    "\n",
    "cv2.waitKey()\n",
    "cv2.destroyAllWindows()"
   ]
  },
  {
   "cell_type": "code",
   "execution_count": null,
   "metadata": {},
   "outputs": [],
   "source": []
  }
 ],
 "metadata": {
  "kernelspec": {
   "display_name": "Python 3",
   "language": "python",
   "name": "python3"
  },
  "language_info": {
   "codemirror_mode": {
    "name": "ipython",
    "version": 3
   },
   "file_extension": ".py",
   "mimetype": "text/x-python",
   "name": "python",
   "nbconvert_exporter": "python",
   "pygments_lexer": "ipython3",
   "version": "3.7.3"
  }
 },
 "nbformat": 4,
 "nbformat_minor": 2
}
