{
 "cells": [
  {
   "cell_type": "code",
   "execution_count": 1,
   "metadata": {},
   "outputs": [],
   "source": [
    "import time\n",
    "from cv2Utilities import *"
   ]
  },
  {
   "cell_type": "code",
   "execution_count": 57,
   "metadata": {},
   "outputs": [
    {
     "data": {
      "text/plain": [
       "1585475499.7029743"
      ]
     },
     "execution_count": 57,
     "metadata": {},
     "output_type": "execute_result"
    }
   ],
   "source": []
  },
  {
   "cell_type": "markdown",
   "metadata": {},
   "source": [
    "# Some Parameters for better results"
   ]
  },
  {
   "cell_type": "code",
   "execution_count": null,
   "metadata": {},
   "outputs": [],
   "source": [
    "image = load_image(1)\n",
    "edge = canny(image, 5, 70)\n",
    "dilated = dilate(edge, 7, 9)\n",
    "eroded = erode(dilated, 7, 9)\n",
    "cnt = contours(eroded, method=50)[0]\n",
    "fin, approx = boundingRect(image, cnt)\n",
    "show(fin)"
   ]
  },
  {
   "cell_type": "code",
   "execution_count": null,
   "metadata": {},
   "outputs": [],
   "source": []
  },
  {
   "cell_type": "markdown",
   "metadata": {},
   "source": [
    "## Drawing Circles on the origins"
   ]
  },
  {
   "cell_type": "code",
   "execution_count": null,
   "metadata": {},
   "outputs": [],
   "source": [
    "for pnt in approx:\n",
    "    cx, cy = pnt[0][0], pnt[0][1]\n",
    "    cv2.circle(image, (cx, cy), 10, (0,0,255), 3)\n",
    "show(image)"
   ]
  },
  {
   "cell_type": "markdown",
   "metadata": {},
   "source": []
  },
  {
   "cell_type": "markdown",
   "metadata": {},
   "source": [
    "## Feature matching"
   ]
  },
  {
   "cell_type": "code",
   "execution_count": null,
   "metadata": {},
   "outputs": [],
   "source": [
    "image1 = load_image(0)\n",
    "gray1 = gray(image1)\n",
    "orb = cv2.ORB_create(900)\n",
    "keypoints1 = orb.detect(gray1, None)\n",
    "keypoints1, descriptors1 = orb.compute(gray1, keypoints1)\n",
    "print(\"Number of keypoints Detected: \", len(keypoints1))\n",
    "show(cv2.drawKeypoints(image1, keypoints1, None, flags=cv2.DRAW_MATCHES_FLAGS_DRAW_RICH_KEYPOINTS))"
   ]
  },
  {
   "cell_type": "markdown",
   "metadata": {},
   "source": [
    "# Different Algorithms matching implementation"
   ]
  },
  {
   "cell_type": "markdown",
   "metadata": {},
   "source": [
    "### BRIEF with all details"
   ]
  },
  {
   "cell_type": "code",
   "execution_count": null,
   "metadata": {},
   "outputs": [],
   "source": [
    "img1 = load_image(0)\n",
    "gry1 = gray(img1)\n",
    "img2 = load_image(2)\n",
    "gry2 = gray(img2)\n",
    "\n",
    "fast = cv2.FastFeatureDetector_create()\n",
    "brief = cv2.xfeatures2d.BriefDescriptorExtractor_create()\n",
    "\n",
    "kp1 = fast.detect(gry1, None)\n",
    "kp1, des1 = brief.compute(gry1, kp1)\n",
    "kp2 = fast.detect(gry2, None)\n",
    "kp2, des2 = brief.compute(gry2, kp2)\n",
    "\n",
    "bf = cv2.BFMatcher(cv2.NORM_HAMMING, crossCheck=True)\n",
    "matches = bf.match(des1,des2)\n",
    "matches = sorted(matches, key = lambda x:x.distance)\n",
    "show(cv2.drawMatches(img1,kp1,img2,kp2,matches[:20], outImg=None, flags=2))"
   ]
  },
  {
   "cell_type": "markdown",
   "metadata": {},
   "source": [
    "### ORB will all the gory details"
   ]
  },
  {
   "cell_type": "code",
   "execution_count": null,
   "metadata": {},
   "outputs": [],
   "source": [
    "orb = cv2.ORB_create()\n",
    "\n",
    "img1 = load_image(0)\n",
    "img2 = load_image(1)\n",
    "gry1 = gray(img1)\n",
    "gry2 = gray(img2)\n",
    "\n",
    "kp1, des1 = orb.detectAndCompute(gry1,None)\n",
    "kp2, des2 = orb.detectAndCompute(gry2,None)\n",
    "\n",
    "bf = cv2.BFMatcher(cv2.NORM_HAMMING, crossCheck=True)\n",
    "matches = bf.match(des1,des2)\n",
    "matches = sorted(matches, key = lambda x:x.distance)\n",
    "\n",
    "show(cv2.drawMatches(img1,kp1,img2,kp2,matches[:10], outImg=None, flags=2))"
   ]
  },
  {
   "cell_type": "markdown",
   "metadata": {},
   "source": [
    "### SIFT implementation"
   ]
  },
  {
   "cell_type": "code",
   "execution_count": null,
   "metadata": {},
   "outputs": [],
   "source": [
    "img1 = load_image(0)\n",
    "img2 = load_image(1)\n",
    "gry1 = gray(img1)\n",
    "gry2 = gray(img2)\n",
    "\n",
    "sift = cv2.xfeatures2d.SURF_create(500)\n",
    "kp1, des1 = sift.detectAndCompute(gry1, None)\n",
    "kp2, des2 = sift.detectAndCompute(gry2, None)\n",
    "\n",
    "bf = cv2.BFMatcher()\n",
    "matches = bf.knnMatch(des1,des2, k=2)\n",
    "\n",
    "good = []\n",
    "for m,n in matches:\n",
    "    if m.distance < 0.75*n.distance:\n",
    "        good.append([m])\n",
    "\n",
    "finl = cv2.drawMatchesKnn(img1,kp1,img2,kp2,good[:20],flags=2, outImg=None)\n",
    "show(finl)"
   ]
  },
  {
   "cell_type": "markdown",
   "metadata": {},
   "source": [
    "### SURF Implementation"
   ]
  },
  {
   "cell_type": "code",
   "execution_count": null,
   "metadata": {},
   "outputs": [],
   "source": [
    "img1 = load_image(0)\n",
    "img2 = load_image(1)\n",
    "gry1 = gray(img1)\n",
    "gry2 = gray(img2)\n",
    "\n",
    "surf = cv2.xfeatures2d.SURF_create(1000)\n",
    "\n",
    "kp1, des1 = surf.detectAndCompute(gry1, None)\n",
    "kp2, des2 = surf.detectAndCompute(gry2, None)\n",
    "\n",
    "bf = cv2.BFMatcher()\n",
    "matches = bf.knnMatch(des1,des2, k=2)\n",
    "\n",
    "good = []\n",
    "for m,n in matches:\n",
    "    if m.distance < 0.75*n.distance:\n",
    "        good.append([m])\n",
    "\n",
    "finl = cv2.drawMatchesKnn(img1,kp1,img2,kp2,good[:50],flags=2, outImg=None)\n",
    "show(finl)"
   ]
  },
  {
   "cell_type": "markdown",
   "metadata": {},
   "source": [
    "# BRIEF and ORB all in one"
   ]
  },
  {
   "cell_type": "code",
   "execution_count": 63,
   "metadata": {},
   "outputs": [],
   "source": [
    "img1 = load_image(0)\n",
    "img2 = load_image(7)\n",
    "\n",
    "#show(BRIEF_compare(img1, img2, 50), name='BRIEF', done=False)\n",
    "show(ORB_compare(img1, img2, nfeature=4000, n=50), name='ORB', done=False)\n",
    "#show(SIFT_compare(img1, img2, nfeature=500, nmatch=50), name='SIFT', done=False)\n",
    "#show(SURF_compare(img1, img2, nmatch=50), name='SURF', done=False)\n",
    "\n",
    "cv2.destroyAllWindows()"
   ]
  },
  {
   "cell_type": "markdown",
   "metadata": {},
   "source": [
    "## Algorithms speed compare"
   ]
  },
  {
   "cell_type": "code",
   "execution_count": 32,
   "metadata": {},
   "outputs": [
    {
     "name": "stdout",
     "output_type": "stream",
     "text": [
      "594 ms ± 15.3 ms per loop (mean ± std. dev. of 7 runs, 1 loop each)\n"
     ]
    }
   ],
   "source": [
    "%%timeit\n",
    "SIFT_compare(img1, img2)"
   ]
  },
  {
   "cell_type": "code",
   "execution_count": 33,
   "metadata": {},
   "outputs": [
    {
     "name": "stdout",
     "output_type": "stream",
     "text": [
      "797 ms ± 9.64 ms per loop (mean ± std. dev. of 7 runs, 1 loop each)\n"
     ]
    }
   ],
   "source": [
    "%%timeit\n",
    "SURF_compare(img1, img2)"
   ]
  },
  {
   "cell_type": "code",
   "execution_count": 34,
   "metadata": {},
   "outputs": [
    {
     "name": "stdout",
     "output_type": "stream",
     "text": [
      "38.2 ms ± 386 µs per loop (mean ± std. dev. of 7 runs, 10 loops each)\n"
     ]
    }
   ],
   "source": [
    "%%timeit\n",
    "BRIEF_compare(img1, img2)"
   ]
  },
  {
   "cell_type": "code",
   "execution_count": 36,
   "metadata": {},
   "outputs": [
    {
     "name": "stdout",
     "output_type": "stream",
     "text": [
      "48.2 ms ± 694 µs per loop (mean ± std. dev. of 7 runs, 10 loops each)\n"
     ]
    }
   ],
   "source": [
    "%%timeit\n",
    "ORB_compare(img1, img2)"
   ]
  },
  {
   "cell_type": "markdown",
   "metadata": {},
   "source": [
    "# Matching Speed Compare"
   ]
  },
  {
   "cell_type": "markdown",
   "metadata": {},
   "source": [
    "### FLANN Based"
   ]
  },
  {
   "cell_type": "code",
   "execution_count": 3,
   "metadata": {},
   "outputs": [],
   "source": [
    "orb = cv2.ORB_create()\n",
    "\n",
    "img1 = load_image(0)\n",
    "img2 = load_image(1)\n",
    "gry1 = gray(img1)\n",
    "gry2 = gray(img2)\n",
    "surf = cv2.xfeatures2d.SURF_create()\n",
    "\n",
    "FLANN_INDEX_KDTREE = 0\n",
    "\n",
    "#index_params = dict(algorithm = FLANN_INDEX_KDTREE, trees = 5)\n",
    "FLANN_INDEX_LSH = 6\n",
    "index_params= dict(algorithm = FLANN_INDEX_LSH, table_number = 6, key_size = 12, multi_probe_level = 1)\n",
    "search_params = dict(checks=50)   # or pass empty dictionary\n",
    "flann = cv2.FlannBasedMatcher(index_params,search_params)\n",
    "\n",
    "#kp1, des1 = surf.detectAndCompute(gry1, None)\n",
    "#kp2, des2 = surf.detectAndCompute(gry2, None)\n",
    "\n",
    "kp1, des1 = orb.detectAndCompute(gry1,None)\n",
    "kp2, des2 = orb.detectAndCompute(gry2,None)"
   ]
  },
  {
   "cell_type": "code",
   "execution_count": 43,
   "metadata": {},
   "outputs": [
    {
     "data": {
      "text/plain": [
       "0.015001535415649414"
      ]
     },
     "execution_count": 43,
     "metadata": {},
     "output_type": "execute_result"
    }
   ],
   "source": [
    "time1 = time.time()\n",
    "matches = flann.knnMatch(des1,des2,k=2)\n",
    "matchesMask = [[0,0] for i in range(len(matches))]\n",
    "for i,(m,n) in enumerate(matches):\n",
    "    if m.distance < 0.75 * n.distance:\n",
    "        matchesMask[i]=[1,0]\n",
    "img = cv2.drawMatchesKnn(img1, kp1, img2, kp2, matches, outImg=None, flags=2, matchesMask=matchesMask)\n",
    "time2 = time.time()\n",
    "time2-time1"
   ]
  },
  {
   "cell_type": "markdown",
   "metadata": {},
   "source": [
    "## BFMATCHER"
   ]
  },
  {
   "cell_type": "code",
   "execution_count": 45,
   "metadata": {},
   "outputs": [],
   "source": [
    "img1 = load_image(0)\n",
    "img2 = load_image(1)\n",
    "gry1 = gray(img1)\n",
    "gry2 = gray(img2)\n",
    "surf = cv2.xfeatures2d.SURF_create()\n",
    "bf = cv2.BFMatcher()\n",
    "\n",
    "#kp1, des1 = surf.detectAndCompute(gry1, None)\n",
    "#kp2, des2 = surf.detectAndCompute(gry2, None)\n",
    "\n",
    "kp1, des1 = orb.detectAndCompute(gry1,None)\n",
    "kp2, des2 = orb.detectAndCompute(gry2,None)"
   ]
  },
  {
   "cell_type": "code",
   "execution_count": 54,
   "metadata": {},
   "outputs": [
    {
     "name": "stdout",
     "output_type": "stream",
     "text": [
      "9.65 ms ± 49.8 µs per loop (mean ± std. dev. of 7 runs, 100 loops each)\n"
     ]
    }
   ],
   "source": [
    "%%timeit\n",
    "matches = bf.knnMatch(des1, des2, k=2)\n",
    "good = []\n",
    "for m,n in matches:\n",
    "    if m.distance < 0.75 * n.distance:\n",
    "        good.append([m])\n",
    "finl = cv2.drawMatchesKnn(img1, kp1, img2, kp2, good, outImg=None, flags=2)"
   ]
  },
  {
   "cell_type": "markdown",
   "metadata": {},
   "source": [
    "\n",
    "\n",
    "BFMatcher seems to outperform FLANN in every single case when using SURF!\n",
    "Same results are achieved when using ORB! \n",
    "\n"
   ]
  },
  {
   "cell_type": "code",
   "execution_count": null,
   "metadata": {},
   "outputs": [],
   "source": []
  }
 ],
 "metadata": {
  "kernelspec": {
   "display_name": "Python 3",
   "language": "python",
   "name": "python3"
  },
  "language_info": {
   "codemirror_mode": {
    "name": "ipython",
    "version": 3
   },
   "file_extension": ".py",
   "mimetype": "text/x-python",
   "name": "python",
   "nbconvert_exporter": "python",
   "pygments_lexer": "ipython3",
   "version": "3.7.3"
  }
 },
 "nbformat": 4,
 "nbformat_minor": 2
}
