{
 "cells": [
  {
   "cell_type": "markdown",
   "metadata": {},
   "source": [
    "# First Method"
   ]
  },
  {
   "cell_type": "code",
   "execution_count": 1,
   "metadata": {},
   "outputs": [],
   "source": [
    "from imutils import face_utils\n",
    "import imutils \n",
    "import dlib \n",
    "import cv2\n",
    "\n",
    "detector = dlib.get_frontal_face_detector() \n",
    "predictor = dlib.shape_predictor('./MasterOpenCV/shape_predictor_68_face_landmarks.dat')\n",
    "\n",
    "count = 0 # initialize the count for the number of faces\n",
    "\n",
    "image = dlib.load_rgb_image(\"./MasterOpenCV/images/obama.jpg\") # loads the image\n",
    "image = cv2.cvtColor(image, cv2.COLOR_BGR2RGB) # OpenCV reads BGR instead of RGB, so we need to convert the colors\n",
    "image = imutils.resize(image, width = 800, height = 600)\n",
    "faces = detector(image, 1)\n",
    "\n",
    "for face in faces:\n",
    "    faceshape = predictor(image, face)\n",
    "    faceshape = face_utils.shape_to_np(faceshape) # convert to numpy array\n",
    "    for (x,y) in faceshape:\n",
    "        cv2.circle(image, (x,y), 1, (255, 255, 255), -1) # display white dots in their respective locations (facial landmarks)\n",
    "    \n",
    "cv2.putText(image,\"Number of faces found: \" + str(len(faces)), (180, 420), cv2.FONT_HERSHEY_DUPLEX, 1, (0,255,0), 2)\n",
    "cv2.imshow(\"Image\", image) # display the image and the landmarks\n",
    "cv2.waitKey()\n",
    "cv2.destroyAllWindows()"
   ]
  },
  {
   "cell_type": "markdown",
   "metadata": {},
   "source": [
    "# Second method"
   ]
  },
  {
   "cell_type": "code",
   "execution_count": 2,
   "metadata": {},
   "outputs": [],
   "source": [
    "import cv2\n",
    "import dlib\n",
    "import numpy as np"
   ]
  },
  {
   "cell_type": "code",
   "execution_count": 3,
   "metadata": {},
   "outputs": [],
   "source": [
    "class TooManyFaces(Exception):\n",
    "    pass\n",
    "\n",
    "class NoFaces(Exception):\n",
    "    pass\n",
    "\n",
    "detector = dlib.get_frontal_face_detector() \n",
    "predictor = dlib.shape_predictor('./MasterOpenCV/shape_predictor_68_face_landmarks.dat')"
   ]
  },
  {
   "cell_type": "code",
   "execution_count": 6,
   "metadata": {},
   "outputs": [],
   "source": [
    "def get_landmarks(im):\n",
    "    rects = detector(im, 1)\n",
    "\n",
    "    if len(rects) > 1:\n",
    "        raise TooManyFaces\n",
    "    if len(rects) == 0:\n",
    "        raise NoFaces\n",
    "\n",
    "    return np.matrix([[p.x, p.y] for p in predictor(im, rects[0]).parts()])\n",
    "\n",
    "def annotate_landmarks(im, landmarks):\n",
    "    im = im.copy()\n",
    "    for idx, point in enumerate(landmarks):\n",
    "        pos = (point[0, 0], point[0, 1])\n",
    "        cv2.putText(im, str(idx), pos,\n",
    "                    fontFace=cv2.FONT_HERSHEY_SCRIPT_SIMPLEX,\n",
    "                    fontScale=0.4,\n",
    "                    color=(0, 0, 255))\n",
    "        \n",
    "        cv2.circle(im, pos, 3, color=(0, 255, 255))\n",
    "    return im"
   ]
  },
  {
   "cell_type": "code",
   "execution_count": 7,
   "metadata": {},
   "outputs": [],
   "source": [
    "image = cv2.imread('./MasterOpenCV/images/Obama.jpg')\n",
    "landmarks = get_landmarks(image)\n",
    "image_with_landmarks = annotate_landmarks(image, landmarks)\n",
    "cv2.imshow('Result', image_with_landmarks)\n",
    "cv2.waitKey(0)\n",
    "cv2.destroyAllWindows()"
   ]
  }
 ],
 "metadata": {
  "kernelspec": {
   "display_name": "Python 3",
   "language": "python",
   "name": "python3"
  },
  "language_info": {
   "codemirror_mode": {
    "name": "ipython",
    "version": 3
   },
   "file_extension": ".py",
   "mimetype": "text/x-python",
   "name": "python",
   "nbconvert_exporter": "python",
   "pygments_lexer": "ipython3",
   "version": "3.7.0"
  }
 },
 "nbformat": 4,
 "nbformat_minor": 2
}
