{
 "cells": [
  {
   "cell_type": "code",
   "execution_count": 1,
   "metadata": {},
   "outputs": [],
   "source": [
    "import cv2\n",
    "import numpy as np"
   ]
  },
  {
   "cell_type": "code",
   "execution_count": 2,
   "metadata": {},
   "outputs": [],
   "source": [
    "image = cv2.imread('./MasterOpenCV/images/abraham.jpg')\n",
    "cv2.imshow('Original Damaged Photo', image)\n",
    "cv2.waitKey(0)\n",
    "marked_damages = cv2.imread('./MasterOpenCV/images/mask.jpg', 0)\n",
    "cv2.imshow('Marked Damages', marked_damages)\n",
    "cv2.waitKey(0)\n",
    "ret, thresh1 = cv2.threshold(marked_damages, 254, 255, cv2.THRESH_BINARY)\n",
    "cv2.imshow('Threshold Binary', thresh1)\n",
    "cv2.waitKey(0)\n",
    "\n",
    "kernel = np.ones((7,7), np.uint8)\n",
    "mask = cv2.dilate(thresh1, kernel, iterations = 1)\n",
    "cv2.imshow('Dilated Mask', mask)\n",
    "\n",
    "cv2.waitKey(0)\n",
    "restored = cv2.inpaint(image, mask, 3, cv2.INPAINT_TELEA)\n",
    "\n",
    "cv2.imshow('Restored', restored)\n",
    "cv2.waitKey(0)\n",
    "cv2.destroyAllWindows()"
   ]
  }
 ],
 "metadata": {
  "kernelspec": {
   "display_name": "Python 3",
   "language": "python",
   "name": "python3"
  },
  "language_info": {
   "codemirror_mode": {
    "name": "ipython",
    "version": 3
   },
   "file_extension": ".py",
   "mimetype": "text/x-python",
   "name": "python",
   "nbconvert_exporter": "python",
   "pygments_lexer": "ipython3",
   "version": "3.7.0"
  }
 },
 "nbformat": 4,
 "nbformat_minor": 2
}
