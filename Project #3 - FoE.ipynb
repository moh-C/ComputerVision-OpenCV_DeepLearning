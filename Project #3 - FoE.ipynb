{
 "cells": [
  {
   "cell_type": "code",
   "execution_count": 27,
   "metadata": {},
   "outputs": [],
   "source": [
    "import cv2\n",
    "import numpy as np\n",
    "import keras\n",
    "from LinearClassifier import LinearClassifier\n",
    "import os"
   ]
  },
  {
   "cell_type": "code",
   "execution_count": 30,
   "metadata": {},
   "outputs": [
    {
     "data": {
      "text/plain": [
       "['bar.jpg',\n",
       " 'patch_00.jpg',\n",
       " 'patch_01.jpg',\n",
       " 'patch_02.jpg',\n",
       " 'patch_03.jpg',\n",
       " 'patch_10.jpg',\n",
       " 'patch_11.jpg',\n",
       " 'patch_12.jpg',\n",
       " 'patch_13.jpg']"
      ]
     },
     "execution_count": 30,
     "metadata": {},
     "output_type": "execute_result"
    }
   ],
   "source": [
    "os.listdir(os.getcwd()+'./MasterOpenCV/FoE/Army/FoundUnits/')"
   ]
  },
  {
   "cell_type": "markdown",
   "metadata": {},
   "source": [
    "# Loading Images"
   ]
  },
  {
   "cell_type": "code",
   "execution_count": 2,
   "metadata": {},
   "outputs": [],
   "source": [
    "armyManagement = cv2.imread('./MasterOpenCV/FoE/Army/ArmyManagement.png')\n",
    "armyManagement_cut = cv2.imread('./MasterOpenCV/FoE/Army/ArmyManagement_cut.png')\n",
    "armyManagement_hurt = cv2.imread('./MasterOpenCV/FoE/Army/ArmyManagement_HurtUnits.png')\n",
    "\n",
    "hover_segment = cv2.imread('./MasterOpenCV/FoE/Army/FoundUnits/patch_00.jpg')\n",
    "rogue_segment = cv2.imread('./MasterOpenCV/FoE/Army/FoundUnits/patch_10.jpg')\n",
    "\n",
    "hoverTank_1 = cv2.imread('./MasterOpenCV/FoE/Army/HoverTank.png')\n",
    "hoverTank_2 = cv2.imread('./MasterOpenCV/FoE/Army/HoverTank_2.png')\n",
    "Rogue = cv2.imread('./MasterOpenCV/FoE/Army/Rogue.png')"
   ]
  },
  {
   "cell_type": "code",
   "execution_count": 23,
   "metadata": {},
   "outputs": [],
   "source": [
    "def lives_mask(frame):\n",
    "    hsv = cv2.cvtColor(frame, cv2.COLOR_BGR2HSV) \n",
    "    lowerBound = np.array([35, 90, 150])\n",
    "    upperBound = np.array([45, 210, 240])\n",
    "    mask = cv2.inRange(hsv, lowerBound, upperBound) \n",
    "    result = cv2.bitwise_and(frame, frame, mask = mask)\n",
    "    result = cv2.pyrUp(result)\n",
    "    result = cv2.pyrUp(result)\n",
    "    return result\n",
    "\n",
    "def lives_count(image):\n",
    "    im = lives_mask(image)\n",
    "    edged = cv2.Canny(im, 50, 250)\n",
    "    _, contours, _ = cv2.findContours(edged, cv2.RETR_EXTERNAL, cv2.CHAIN_APPROX_SIMPLE)\n",
    "    return len(contours)"
   ]
  },
  {
   "cell_type": "markdown",
   "metadata": {},
   "source": [
    "# Class for army management"
   ]
  },
  {
   "cell_type": "code",
   "execution_count": null,
   "metadata": {},
   "outputs": [],
   "source": [
    "# class ArmyManagement():\n",
    "#     def __init__(self):"
   ]
  },
  {
   "cell_type": "code",
   "execution_count": null,
   "metadata": {},
   "outputs": [],
   "source": [
    "LC = LinearClassifier(Rogue= Rogue, Hover= hoverTank_1)\n",
    "model = LC.train_classifier()\n",
    "army = ArmyManagement(army_m_window= armyManagement_cut, unit=hoverTank_1, classifier= LC)"
   ]
  },
  {
   "cell_type": "code",
   "execution_count": null,
   "metadata": {},
   "outputs": [],
   "source": [
    "img = armyManagement_cut[40:-10, 10:280]\n",
    "sizeX, sizeY = img.shape[1], img.shape[0]\n",
    "\n",
    "nRows = 2\n",
    "mCols = 4\n",
    "for i in range(0,nRows):\n",
    "    for j in range(0, mCols):\n",
    "        roi = img[i*int(sizeY/nRows):i*int(sizeY/nRows) + int(sizeY/nRows),\n",
    "                  j*int(sizeX/mCols):j*int(sizeX/mCols) + int(sizeX/mCols)]\n",
    "        cv2.imwrite('./MasterOpenCV/FoE/Army/FoundUnits/patch_'+str(i)+str(j)+\".jpg\", roi)"
   ]
  },
  {
   "cell_type": "markdown",
   "metadata": {},
   "source": [
    "## Driver Code"
   ]
  },
  {
   "cell_type": "code",
   "execution_count": null,
   "metadata": {},
   "outputs": [],
   "source": [
    "armyManagement = cv2.imread('./MasterOpenCV/FoE/Army/ArmyManagement.png')\n",
    "armyManagement_hurt = cv2.imread('./MasterOpenCV/FoE/Army/ArmyManagement_HurtUnits.png')\n",
    "\n",
    "hoverTank_1 = cv2.imread('./MasterOpenCV/FoE/Army/HoverTank.png')\n",
    "hoverTank_2 = cv2.imread('./MasterOpenCV/FoE/Army/HoverTank_2.png')\n",
    "Rogue = cv2.imread('./MasterOpenCV/FoE/Army/Rogue.png')\n",
    "\n",
    "# cv2.imshow('Army Management', armyManagement)\n",
    "# cv2.waitKey()\n",
    "# cv2.imshow('Army Management', hoverTank_1)\n",
    "# cv2.waitKey()\n",
    "# cv2.imshow('Army Management', hoverTank_2)\n",
    "# cv2.waitKey()\n",
    "# cv2.destroyAllWindows()\n",
    "\n",
    "# nRogues, rogueCount = template_finder(armyManagement_hurt, Rogue, threshold= 0.9, count= True)\n",
    "# nHovers, hoverCount = template_finder(armyManagement_hurt, hoverTank_1, threshold= 0.8, count= True)\n",
    "\n",
    "nRogues = template_finder(armyManagement_hurt, hoverTank_2, threshold= 0.8, count= True)\n",
    "cv2.destroyAllWindows()\n",
    "\n",
    "\n",
    "# cv2.imshow('Army Management', nRogues)\n",
    "# cv2.waitKey()\n",
    "# cv2.destroyAllWindows()\n",
    "\n",
    "# hoverCount"
   ]
  },
  {
   "cell_type": "markdown",
   "metadata": {},
   "source": [
    "## Old Project"
   ]
  },
  {
   "cell_type": "code",
   "execution_count": null,
   "metadata": {
    "scrolled": true
   },
   "outputs": [],
   "source": [
    "mainCity = cv2.imread('./MasterOpenCV/FoE/Something.png')\n",
    "aiding = cv2.imread('./MasterOpenCV/FoE/Aid.png')\n",
    "FT = cv2.imread('./MasterOpenCV/FoE/FT.png')\n",
    "GB = cv2.imread('./MasterOpenCV/FoE/GB.png')\n",
    "MPed = cv2.imread('./MasterOpenCV/FoE/Motivated.png')\n",
    "barrack = cv2.imread('./MasterOpenCV/FoE/Barrack.png')\n",
    "\n",
    "(toBeAided, noAid) = template_finder(mainCity, aiding, count=True)\n",
    "print(noAid)\n",
    "friendTavern = template_finder(mainCity, FT)\n",
    "GB = template_finder(mainCity, GB)\n",
    "Motivated = template_finder(mainCity, MPed, threshold=0.5)\n",
    "Troops = template_finder(mainCity, barrack)\n",
    "\n",
    "cv2.imshow('Ready troops', Troops)\n",
    "cv2.waitKey()\n",
    "cv2.imshow('Aiding', toBeAided)\n",
    "cv2.waitKey()\n",
    "cv2.imshow('Friend Tavern', friendTavern)\n",
    "cv2.waitKey()\n",
    "cv2.imshow('Great Buildings', GB)\n",
    "cv2.waitKey()\n",
    "cv2.imshow('Motivated', Motivated)\n",
    "cv2.waitKey()\n",
    "\n",
    "cv2.destroyAllWindows()"
   ]
  }
 ],
 "metadata": {
  "kernelspec": {
   "display_name": "Python 3",
   "language": "python",
   "name": "python3"
  },
  "language_info": {
   "codemirror_mode": {
    "name": "ipython",
    "version": 3
   },
   "file_extension": ".py",
   "mimetype": "text/x-python",
   "name": "python",
   "nbconvert_exporter": "python",
   "pygments_lexer": "ipython3",
   "version": "3.7.0"
  }
 },
 "nbformat": 4,
 "nbformat_minor": 2
}
