{
 "cells": [
  {
   "cell_type": "code",
   "execution_count": 1,
   "metadata": {},
   "outputs": [
    {
     "name": "stderr",
     "output_type": "stream",
     "text": [
      "Using TensorFlow backend.\n"
     ]
    }
   ],
   "source": [
    "import cv2\n",
    "import numpy as np\n",
    "import keras\n",
    "from LinearClassifier import LinearClassifier\n",
    "import os"
   ]
  },
  {
   "cell_type": "markdown",
   "metadata": {},
   "source": [
    "# Loading Images"
   ]
  },
  {
   "cell_type": "code",
   "execution_count": 2,
   "metadata": {},
   "outputs": [],
   "source": [
    "armyManagement = cv2.imread('./MasterOpenCV/FoE/Army/ArmyManagement.png')\n",
    "armyManagement_cut = cv2.imread('./MasterOpenCV/FoE/Army/ArmyManagement_cut.png')\n",
    "armyManagement_hurt = cv2.imread('./MasterOpenCV/FoE/Army/ArmyManagement_HurtUnits.png')\n",
    "\n",
    "hover_segment = cv2.imread('./MasterOpenCV/FoE/Army/FoundUnits/patch_00.jpg')\n",
    "rogue_segment = cv2.imread('./MasterOpenCV/FoE/Army/FoundUnits/patch_10.jpg')\n",
    "\n",
    "hoverTank_1 = cv2.imread('./MasterOpenCV/FoE/Army/HoverTank.png')\n",
    "hoverTank_2 = cv2.imread('./MasterOpenCV/FoE/Army/HoverTank_2.png')\n",
    "Rogue = cv2.imread('./MasterOpenCV/FoE/Army/Rogue.png')\n",
    "\n",
    "LC = LinearClassifier(Rogue= Rogue, Hover= hoverTank_1)\n",
    "classifier = LC.train_classifier()"
   ]
  },
  {
   "cell_type": "markdown",
   "metadata": {},
   "source": [
    "# Class for army management"
   ]
  },
  {
   "cell_type": "code",
   "execution_count": 50,
   "metadata": {},
   "outputs": [],
   "source": [
    "class units_management():\n",
    "    def __init__(self, unitID, unitLives, bounds):\n",
    "        self.unitID = unitID\n",
    "        self.unitLives = unitLives\n",
    "        self.needsReplacement = self.unitLives < 5\n",
    "        self.unitBounds = bounds\n",
    "    def __str__(self):\n",
    "        return f'{self.unitID} with {self.unitLives} lives and {self.needsReplacement} with {self.unitBounds}'"
   ]
  },
  {
   "cell_type": "code",
   "execution_count": 51,
   "metadata": {},
   "outputs": [],
   "source": [
    "class army_management():\n",
    "    def __init__(self, armyManagement, model):\n",
    "        self.armyManagement = armyManagement\n",
    "        self.model = model\n",
    "        self.units = []\n",
    "        \n",
    "        self.alive_units = 0\n",
    "        \n",
    "        self.processArmy()\n",
    "        \n",
    "    def lives_mask(self, frame):\n",
    "        hsv = cv2.cvtColor(frame, cv2.COLOR_BGR2HSV) \n",
    "        lowerBound = np.array([35, 90, 150])\n",
    "        upperBound = np.array([45, 210, 240])\n",
    "        mask = cv2.inRange(hsv, lowerBound, upperBound) \n",
    "        result = cv2.bitwise_and(frame, frame, mask = mask)\n",
    "        result = cv2.pyrUp(result)\n",
    "        result = cv2.pyrUp(result)\n",
    "        return result\n",
    "\n",
    "    def lives_count(self, image):\n",
    "        im = self.lives_mask(image)\n",
    "        edged = cv2.Canny(im, 50, 250)\n",
    "        _, contours, _ = cv2.findContours(edged, cv2.RETR_EXTERNAL, cv2.CHAIN_APPROX_SIMPLE)\n",
    "        return len(contours)\n",
    "    \n",
    "    def processArmy(self):\n",
    "        # img = self.armyManagement[40:-10, 10:280]\n",
    "        img = self.armyManagement\n",
    "        sizeX, sizeY = img.shape[1], img.shape[0]\n",
    "\n",
    "        nRows = 2\n",
    "        mCols = 4\n",
    "        \n",
    "        for j in range(0, mCols):\n",
    "            for i in range(0,nRows):\n",
    "                y_higher = i*int(sizeY/nRows)\n",
    "                y_lower = i*int(sizeY/nRows) + int(sizeY/nRows)\n",
    "                x_left = j*int(sizeX/mCols)\n",
    "                x_right = j*int(sizeX/mCols) + int(sizeX/mCols)\n",
    "                roi = img[y_higher: y_lower,\n",
    "                          x_left:x_right]\n",
    "                \n",
    "                lives_c = self.lives_count(roi)\n",
    "                if lives_c:\n",
    "                    unitID = self.model.predict(self.preprocess_data(roi))\n",
    "                    bounds_ = ((y_higher, x_left), (y_lower, x_right))\n",
    "                    \n",
    "                    tempUnit = units_management(unitID= unitID,\n",
    "                                                unitLives=lives_c,\n",
    "                                                bounds=bounds_)\n",
    "                    self.units.append(tempUnit)\n",
    "                # cv2.imwrite('./MasterOpenCV/FoE/Army/FoundUnits/patch_'+str(i)+str(j)+\".jpg\", roi)\n",
    "            \n",
    "    def preprocess_data(self, image):\n",
    "        image_toresize = image.copy()\n",
    "        height, width = image_toresize.shape[:2]\n",
    "        blank_image = np.zeros((80, 80, 3), np.uint8)\n",
    "        blank_image[:,:] = (255,255,255)\n",
    "        l_img = blank_image.copy()\n",
    "        x_offset = 40 - int(width/2)\n",
    "        y_offset = 40 - int(height/2)\n",
    "        l_img[y_offset:y_offset+height, x_offset:x_offset+width] = image_toresize.copy()\n",
    "        return np.array(l_img[np.newaxis, :, :, :])"
   ]
  },
  {
   "cell_type": "code",
   "execution_count": 52,
   "metadata": {},
   "outputs": [],
   "source": [
    "armyManagement_cut = cv2.imread('./MasterOpenCV/FoE/Army/ArmyManagement_cut.png')\n",
    "army = army_management(armyManagement=armyManagement_cut, model=classifier)"
   ]
  },
  {
   "cell_type": "code",
   "execution_count": 53,
   "metadata": {},
   "outputs": [
    {
     "name": "stdout",
     "output_type": "stream",
     "text": [
      "[[1.]] with 3 lives and True with ((0, 0), (71, 66))\n",
      "[[1.]] with 1 lives and True with ((71, 0), (142, 66))\n",
      "[[0.]] with 10 lives and False with ((0, 66), (71, 132))\n",
      "[[0.]] with 10 lives and False with ((71, 66), (142, 132))\n",
      "[[0.]] with 10 lives and False with ((0, 132), (71, 198))\n",
      "[[0.]] with 10 lives and False with ((71, 132), (142, 198))\n",
      "[[0.]] with 10 lives and False with ((0, 198), (71, 264))\n",
      "[[0.]] with 10 lives and False with ((71, 198), (142, 264))\n"
     ]
    }
   ],
   "source": [
    "for _ in army.units:\n",
    "    print(_)"
   ]
  },
  {
   "cell_type": "markdown",
   "metadata": {},
   "source": [
    "## Old Project"
   ]
  },
  {
   "cell_type": "code",
   "execution_count": null,
   "metadata": {
    "scrolled": true
   },
   "outputs": [],
   "source": [
    "mainCity = cv2.imread('./MasterOpenCV/FoE/Something.png')\n",
    "aiding = cv2.imread('./MasterOpenCV/FoE/Aid.png')\n",
    "FT = cv2.imread('./MasterOpenCV/FoE/FT.png')\n",
    "GB = cv2.imread('./MasterOpenCV/FoE/GB.png')\n",
    "MPed = cv2.imread('./MasterOpenCV/FoE/Motivated.png')\n",
    "barrack = cv2.imread('./MasterOpenCV/FoE/Barrack.png')\n",
    "\n",
    "(toBeAided, noAid) = template_finder(mainCity, aiding, count=True)\n",
    "print(noAid)\n",
    "friendTavern = template_finder(mainCity, FT)\n",
    "GB = template_finder(mainCity, GB)\n",
    "Motivated = template_finder(mainCity, MPed, threshold=0.5)\n",
    "Troops = template_finder(mainCity, barrack)\n",
    "\n",
    "cv2.imshow('Ready troops', Troops)\n",
    "cv2.waitKey()\n",
    "cv2.imshow('Aiding', toBeAided)\n",
    "cv2.waitKey()\n",
    "cv2.imshow('Friend Tavern', friendTavern)\n",
    "cv2.waitKey()\n",
    "cv2.imshow('Great Buildings', GB)\n",
    "cv2.waitKey()\n",
    "cv2.imshow('Motivated', Motivated)\n",
    "cv2.waitKey()\n",
    "\n",
    "cv2.destroyAllWindows()"
   ]
  }
 ],
 "metadata": {
  "kernelspec": {
   "display_name": "Python 3",
   "language": "python",
   "name": "python3"
  },
  "language_info": {
   "codemirror_mode": {
    "name": "ipython",
    "version": 3
   },
   "file_extension": ".py",
   "mimetype": "text/x-python",
   "name": "python",
   "nbconvert_exporter": "python",
   "pygments_lexer": "ipython3",
   "version": "3.7.0"
  }
 },
 "nbformat": 4,
 "nbformat_minor": 2
}
